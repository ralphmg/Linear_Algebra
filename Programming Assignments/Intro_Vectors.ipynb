{
 "cells": [
  {
   "cell_type": "markdown",
   "id": "35be0e86",
   "metadata": {},
   "source": [
    "\\begin{align*}\n",
    "Problem\\, 1\n",
    "\\end{align*}"
   ]
  },
  {
   "cell_type": "markdown",
   "id": "509686b1",
   "metadata": {},
   "source": [
    "\\begin{align*}\n",
    "Let\\, \\mathbf{u} = (1, -2, 4), \\mathbf{v} = (3, 5, 1), and\\, \\mathbf{w} = (2, 1, -3). Find:\n",
    "\\end{align*}\n",
    "\n",
    "\\begin{align*}\n",
    "a. 3\\mathbf{u} - 2\\mathbf{v}\n",
    "\\end{align*}\n",
    "\n",
    "\\begin{align*}\n",
    "\\mathbf{u} &= \\begin{bmatrix} 1 \\\\ -2 \\\\ 4 \\end{bmatrix}, \\quad\n",
    "\\mathbf{v} = \\begin{bmatrix} 3 \\\\ 5 \\\\ 1 \\end{bmatrix} \\\\\n",
    "3\\mathbf{u} - 2\\mathbf{v} &= 3 \\begin{bmatrix} 1 \\\\ -2 \\\\ 4 \\end{bmatrix} - 2 \\begin{bmatrix} 3 \\\\ 5 \\\\ 1 \\end{bmatrix} \\\\\n",
    "&= \\begin{bmatrix} 3 \\\\ -6 \\\\ 12 \\end{bmatrix} - \\begin{bmatrix} 6 \\\\ 10 \\\\ 2 \\end{bmatrix} \\\\\n",
    "&= \\begin{bmatrix} -3 \\\\ -16 \\\\ 10 \\end{bmatrix}\n",
    "\\end{align*}"
   ]
  },
  {
   "cell_type": "code",
   "execution_count": 52,
   "id": "c5a35951",
   "metadata": {},
   "outputs": [
    {
     "name": "stdout",
     "output_type": "stream",
     "text": [
      "Result: [ -3 -16  10]\n"
     ]
    }
   ],
   "source": [
    "import numpy as np\n",
    "\n",
    "u = np.array([1, -2, 4])\n",
    "v = np.array([3, 5, 1])\n",
    "w = np.array([2, 1, -3])\n",
    "\n",
    "result = 3 * u - 2 * v\n",
    "\n",
    "print(\"Result:\", result)"
   ]
  },
  {
   "cell_type": "markdown",
   "id": "2f483635",
   "metadata": {},
   "source": [
    "\\begin{align*}\n",
    "b. 5\\mathbf{u} + 3\\mathbf{v} - 4\\mathbf{w}\n",
    "\\end{align*}\n",
    "\n",
    "\n",
    "\\begin{align*}\n",
    "5\\mathbf{u} + 3\\mathbf{v} - 4\\mathbf{w} &= 5 \\begin{bmatrix} 1 \\\\ -2 \\\\ 4 \\end{bmatrix} + 3 \\begin{bmatrix} 3 \\\\ 5 \\\\ 1 \\end{bmatrix} - 4 \\begin{bmatrix} 2 \\\\ 1 \\\\ -3 \\end{bmatrix} \\\\\n",
    "&= \\begin{bmatrix} 5 \\cdot 1 + 3 \\cdot 3 - 4 \\cdot 2 \\\\ 5 \\cdot (-2) + 3 \\cdot 5 - 4 \\cdot 1 \\\\ 5 \\cdot 4 + 3 \\cdot 1 - 4 \\cdot (-3) \\end{bmatrix} \\\\\n",
    "&= \\begin{bmatrix} 5 + 9 - 8 \\\\ -10 + 15 - 4 \\\\ 20 + 3 + 12 \\end{bmatrix} \\\\\n",
    "&= \\begin{bmatrix} 6 \\\\ 1 \\\\ 35 \\end{bmatrix}.\n",
    "\\end{align*}"
   ]
  },
  {
   "cell_type": "code",
   "execution_count": 35,
   "id": "f0a27617",
   "metadata": {},
   "outputs": [
    {
     "name": "stdout",
     "output_type": "stream",
     "text": [
      "5u + 3v - 4w = [ 6  1 35]\n"
     ]
    }
   ],
   "source": [
    "u = np.array([1, -2, 4])\n",
    "v = np.array([3, 5, 1])\n",
    "w = np.array([2, 1, -3])\n",
    "\n",
    "result = 5 * u + 3 * v - 4 * w\n",
    "\n",
    "print(\"5u + 3v - 4w =\", result)"
   ]
  },
  {
   "cell_type": "markdown",
   "id": "73f577f4",
   "metadata": {},
   "source": [
    "\\begin{align*}\n",
    "c. \\mathbf{u} * \\mathbf{v}, \\mathbf{v} * \\mathbf{w}, \\mathbf{u} * \\mathbf{w}\n",
    "\\end{align*}\n",
    "\n",
    "\n",
    "\\begin{align*}\n",
    "\\text{Let } \\mathbf{u} &= (1, -2, 4), \\\\\n",
    "\\mathbf{v} &= (3, 5, 1), \\\\\n",
    "\\mathbf{w} &= (2, 1, -3).\n",
    "\\end{align*}\n",
    "\n",
    "\n",
    "\\begin{align*}\n",
    "\\mathbf{u} \\cdot \\mathbf{v} &= 1 \\cdot 3 + (-2) \\cdot 5 + 4 \\cdot 1, \\\\\n",
    "\\mathbf{v} \\cdot \\mathbf{w} &= 3 \\cdot 2 + 5 \\cdot 1 + 1 \\cdot (-3), \\\\\n",
    "\\mathbf{u} \\cdot \\mathbf{w} &= 1 \\cdot 2 + (-2) \\cdot 1 + 4 \\cdot (-3).\n",
    "\\end{align*}\n",
    "\n",
    "\n",
    "\\begin{align*}\n",
    "\\mathbf{u} \\cdot \\mathbf{v} &= 3 - 10 + 4, \\\\\n",
    "\\mathbf{v} \\cdot \\mathbf{w} &= 6 + 5 - 3, \\\\\n",
    "\\mathbf{u} \\cdot \\mathbf{w} &= 2 - 2 - 12.\n",
    "\\end{align*}\n",
    "\n",
    "\\begin{align*}\n",
    "\\mathbf{u} \\cdot \\mathbf{v} &= -3, \\\\\n",
    "\\mathbf{v} \\cdot \\mathbf{w} &= 8, \\\\\n",
    "\\mathbf{u} \\cdot \\mathbf{w} &= -12.\n",
    "\\end{align*}"
   ]
  },
  {
   "cell_type": "code",
   "execution_count": 14,
   "id": "77ae83d2",
   "metadata": {},
   "outputs": [
    {
     "name": "stdout",
     "output_type": "stream",
     "text": [
      "u*v = -3\n",
      "v*w = 8\n",
      "u*w = -12\n"
     ]
    }
   ],
   "source": [
    "u = np.array([1, -2, 4])\n",
    "v = np.array([3, 5, 1])\n",
    "w = np.array([2, 1, -3])\n",
    "\n",
    "u_dot_v = np.dot(u, v)\n",
    "v_dot_w = np.dot(v, w)\n",
    "u_dot_w = np.dot(u, w)\n",
    "\n",
    "print(\"u*v =\", u_dot_v)\n",
    "print(\"v*w =\", v_dot_w)\n",
    "print(\"u*w =\", u_dot_w)"
   ]
  },
  {
   "cell_type": "markdown",
   "id": "3942a3a0",
   "metadata": {},
   "source": [
    "\\begin{align*}\n",
    "d. \\|u\\|, \\|v\\|, \\|w\\|\n",
    "\\end{align*}\n",
    "\n",
    "\n",
    "\\begin{align*}\n",
    "\\|\\mathbf{u}\\| &= \\sqrt{1^2 + (-2)^2 + 4^2}, \\\\\n",
    "\\|\\mathbf{v}\\| &= \\sqrt{3^2 + 5^2 + 1^2}, \\\\\n",
    "\\|\\mathbf{w}\\| &= \\sqrt{2^2 + 1^2 + (-3)^2}.\n",
    "\\end{align*}\n",
    "\n",
    "\n",
    "\\begin{align*}\n",
    "\\|\\mathbf{u}\\| &= \\sqrt{1 + 4 + 16}, \\\\\n",
    "\\|\\mathbf{v}\\| &= \\sqrt{9 + 25 + 1}, \\\\\n",
    "\\|\\mathbf{w}\\| &= \\sqrt{4 + 1 + 9}.\n",
    "\\end{align*}\n",
    "\n",
    "\\begin{align*}\n",
    "\\|\\mathbf{u}\\| &= \\sqrt{21}, \\\\\n",
    "\\|\\mathbf{v}\\| &= \\sqrt{35}, \\\\\n",
    "\\|\\mathbf{w}\\| &= \\sqrt{14}.\n",
    "\\end{align*}"
   ]
  },
  {
   "cell_type": "code",
   "execution_count": 15,
   "id": "e33d75ab",
   "metadata": {},
   "outputs": [
    {
     "name": "stdout",
     "output_type": "stream",
     "text": [
      "||u|| = 4.58257569495584\n",
      "||v|| = 5.916079783099616\n",
      "||w|| = 3.7416573867739413\n"
     ]
    }
   ],
   "source": [
    "u = np.array([1, -2, 4])\n",
    "v = np.array([3, 5, 1])\n",
    "w = np.array([2, 1, -3])\n",
    "\n",
    "norm_u = np.linalg.norm(u)\n",
    "norm_v = np.linalg.norm(v)\n",
    "norm_w = np.linalg.norm(w)\n",
    "\n",
    "print(\"||u|| =\", norm_u)\n",
    "print(\"||v|| =\", norm_v)\n",
    "print(\"||w|| =\", norm_w)"
   ]
  },
  {
   "cell_type": "markdown",
   "id": "6d91f949",
   "metadata": {},
   "source": [
    "\\begin{align*}\n",
    "e. If\\, \\theta\\, is\\, the\\, angle\\, between \\,\\mathbf{u} \\,and \\,\\mathbf{v},\\, find\\, cos\\, \\theta.\n",
    "\\end{align*}\n",
    "\n",
    "\n",
    "\\begin{align*}\n",
    "\\cos \\theta &= \\frac{\\mathbf{u} \\cdot \\mathbf{v}}{\\|\\mathbf{u}\\| \\|\\mathbf{v}\\|} \\\\\n",
    "&= \\frac{(1 \\cdot 3) + (-2 \\cdot 5) + (4 \\cdot 1)}{\\sqrt{21} \\sqrt{35}} \\\\\n",
    "&= \\frac{3 - 10 + 4}{\\sqrt{21} \\sqrt{35}} \\\\\n",
    "&= \\frac{-3}{\\sqrt{21} \\sqrt{35}}.\n",
    "\\end{align*}\n",
    "\n",
    "\n",
    "\\begin{align*}\n",
    "\\cos \\theta &= \\frac{-3}{\\sqrt{21} \\sqrt{35}} \\cdot \\frac{\\sqrt{21} \\sqrt{35}}{\\sqrt{21} \\sqrt{35}} \\\\\n",
    "&= \\frac{-3 \\sqrt{21} \\sqrt{35}}{21 \\cdot 35} \\\\\n",
    "&= \\frac{-3 \\sqrt{3}}{35}.\n",
    "\\end{align*}"
   ]
  },
  {
   "cell_type": "code",
   "execution_count": 36,
   "id": "ec8fe21e",
   "metadata": {},
   "outputs": [
    {
     "name": "stdout",
     "output_type": "stream",
     "text": [
      "cos(theta) = -0.11065666703449763\n"
     ]
    }
   ],
   "source": [
    "u = np.array([1, -2, 4])\n",
    "v = np.array([3, 5, 1])\n",
    "\n",
    "cos_theta = np.dot(u, v) / (np.linalg.norm(u) * np.linalg.norm(v))\n",
    "\n",
    "print(\"cos(theta) =\", cos_theta)"
   ]
  },
  {
   "cell_type": "markdown",
   "id": "e2de572a",
   "metadata": {},
   "source": [
    "\\begin{align*}\n",
    "f. If \\,\\alpha\\, is\\, the \\,angle\\, between \\,\\mathbf{v}\\, and \\,\\mathbf{w},\\, find \\,cos\\, \\alpha.\n",
    "\\end{align*}\n",
    "\n",
    "\\begin{align*}\n",
    "\\cos(\\theta) &= \\frac{\\mathbf{v} \\cdot \\mathbf{w}}{\\|\\mathbf{v}\\| \\|\\mathbf{w}\\|} \\\\\n",
    "&= \\frac{(3)(2) + (5)(1) + (1)(-3)}{\\sqrt{3^2 + 5^2 + 1^2} \\cdot \\sqrt{2^2 + 1^2 + (-3)^2}} \\\\\n",
    "&= \\frac{6 + 5 - 3}{\\sqrt{9 + 25 + 1} \\cdot \\sqrt{4 + 1 + 9}} \\\\\n",
    "&= \\frac{8}{\\sqrt{35} \\cdot \\sqrt{14}} \\\\\n",
    "&= \\frac{8}{\\sqrt{35 \\cdot 14}} \\\\\n",
    "&= \\frac{8}{\\sqrt{490}}\n",
    "\\end{align*}"
   ]
  },
  {
   "cell_type": "code",
   "execution_count": 87,
   "id": "d0a96a2b",
   "metadata": {},
   "outputs": [
    {
     "name": "stdout",
     "output_type": "stream",
     "text": [
      "cos(alpha) = 0.36140316116210053\n"
     ]
    }
   ],
   "source": [
    "v = np.array([3, 5, 1])\n",
    "w = np.array([2, 1, -3])\n",
    "\n",
    "cos_alpha = np.dot(v, w) / (np.linalg.norm(v) * np.linalg.norm(w))\n",
    "\n",
    "print(\"cos(alpha) =\", cos_alpha)"
   ]
  },
  {
   "cell_type": "markdown",
   "id": "631f955a",
   "metadata": {},
   "source": [
    "\\begin{align*}\n",
    "g. If \\,\\beta\\, is\\, the\\, angle\\, between \\,\\mathbf{v}\\, and\\, \\mathbf{w}, \\,find\\, cos \\,\\beta.\n",
    "\\end{align*}\n",
    "\n",
    "\\begin{align*}\n",
    "\\cos(\\beta) &= \\frac{\\mathbf{u} \\cdot \\mathbf{w}}{\\|\\mathbf{u}\\| \\|\\mathbf{w}\\|} \\\\\n",
    "&= \\frac{(1)(2) + (-2)(1) + (4)(-3)}{\\sqrt{1^2 + (-2)^2 + 4^2} \\cdot \\sqrt{2^2 + 1^2 + (-3)^2}} \\\\\n",
    "&= \\frac{2 - 2 - 12}{\\sqrt{1 + 4 + 16} \\cdot \\sqrt{4 + 1 + 9}} \\\\\n",
    "&= \\frac{-12}{\\sqrt{21} \\cdot \\sqrt{14}} \\\\\n",
    "&= -\\frac{12}{\\sqrt{294}}\n",
    "\\end{align*}"
   ]
  },
  {
   "cell_type": "code",
   "execution_count": 88,
   "id": "c0abe830",
   "metadata": {},
   "outputs": [
    {
     "name": "stdout",
     "output_type": "stream",
     "text": [
      "cos(beta) = -0.6998542122237653\n"
     ]
    }
   ],
   "source": [
    "u = np.array([1, -2, 4])\n",
    "w = np.array([2, 1, -3])\n",
    "\n",
    "cos_beta = np.dot(u, w) / (np.linalg.norm(u) * np.linalg.norm(w))\n",
    "\n",
    "print(\"cos(beta) =\", cos_beta)"
   ]
  },
  {
   "cell_type": "markdown",
   "id": "e7a56724",
   "metadata": {},
   "source": [
    "\\begin{align*}\n",
    "h. Find\\, d(\\mathbf{u},\\mathbf{v}).\n",
    "\\end{align*}\n",
    "\n",
    "\\begin{align*}\n",
    "\\text{d}(\\mathbf{u}, \\mathbf{v}) &= \\|\\mathbf{u} - \\mathbf{v}\\| \\\\\n",
    "&= \\left\\| \\begin{bmatrix} 1 - 3 \\\\ -2 - 5 \\\\ 4 - 1 \\end{bmatrix} \\right\\| \\\\\n",
    "&= \\left\\| \\begin{bmatrix} -2 \\\\ -7 \\\\ 3 \\end{bmatrix} \\right\\| \\\\\n",
    "&= \\sqrt{(-2)^2 + (-7)^2 + 3^2} \\\\\n",
    "&= \\sqrt{4 + 49 + 9} \\\\\n",
    "&= \\sqrt{62}.\n",
    "\\end{align*}"
   ]
  },
  {
   "cell_type": "code",
   "execution_count": 40,
   "id": "408eabd1",
   "metadata": {},
   "outputs": [
    {
     "name": "stdout",
     "output_type": "stream",
     "text": [
      "d(u,v) : 7.874007874011811\n"
     ]
    }
   ],
   "source": [
    "u = np.array([1, -2, 4])\n",
    "v = np.array([3, 5, 1])\n",
    "\n",
    "print(\"d(u,v) :\", np.linalg.norm(u-v))"
   ]
  },
  {
   "cell_type": "markdown",
   "id": "095f8a12",
   "metadata": {},
   "source": [
    "\\begin{align*}\n",
    "i. Find\\, d(\\mathbf{w},\\mathbf{v}).\n",
    "\\end{align*}\n",
    "\n",
    "\\begin{align*}\n",
    "\\text{d}(\\mathbf{v}, \\mathbf{w}) &= \\|\\mathbf{v} - \\mathbf{w}\\| \\\\\n",
    "&= \\left\\| \\begin{bmatrix} 3 - 2 \\\\ 5 - 1 \\\\ 1 - (-3) \\end{bmatrix} \\right\\| \\\\\n",
    "&= \\left\\| \\begin{bmatrix} 1 \\\\ 4 \\\\ 4 \\end{bmatrix} \\right\\| \\\\\n",
    "&= \\sqrt{1^2 + 4^2 + 4^2} \\\\\n",
    "&= \\sqrt{1 + 16 + 16} \\\\\n",
    "&= \\sqrt{33}.\n",
    "\\end{align*}"
   ]
  },
  {
   "cell_type": "code",
   "execution_count": 66,
   "id": "907914ab",
   "metadata": {},
   "outputs": [
    {
     "name": "stdout",
     "output_type": "stream",
     "text": [
      "d(w,v) : 5.744562646538029\n"
     ]
    }
   ],
   "source": [
    "u = np.array([1, -2, 4])\n",
    "v = np.array([3, 5, 1])\n",
    "w = np.array([2, 1, -3])\n",
    "\n",
    "print(\"d(w,v) :\", np.linalg.norm(w-v))"
   ]
  },
  {
   "cell_type": "markdown",
   "id": "d260843a",
   "metadata": {},
   "source": [
    "\\begin{align*}\n",
    "j. Find \\,d(\\mathbf{u},\\mathbf{w}).\n",
    "\\end{align*}\n",
    "\n",
    "\\begin{align*}\n",
    "\\text{d}(\\mathbf{u}, \\mathbf{w}) &= \\|\\mathbf{u} - \\mathbf{w}\\| \\\\\n",
    "&= \\left\\| \\begin{bmatrix} 1 - 2 \\\\ -2 - 1 \\\\ 4 - (-3) \\end{bmatrix} \\right\\| \\\\\n",
    "&= \\left\\| \\begin{bmatrix} -1 \\\\ -3 \\\\ 7 \\end{bmatrix} \\right\\| \\\\\n",
    "&= \\sqrt{(-1)^2 + (-3)^2 + 7^2} \\\\\n",
    "&= \\sqrt{1 + 9 + 49} \\\\\n",
    "&= \\sqrt{59}.\n",
    "\\end{align*}"
   ]
  },
  {
   "cell_type": "code",
   "execution_count": 42,
   "id": "cbc7659a",
   "metadata": {},
   "outputs": [
    {
     "name": "stdout",
     "output_type": "stream",
     "text": [
      "d(u,w) : 7.681145747868608\n"
     ]
    }
   ],
   "source": [
    "u = np.array([1, -2, 4])\n",
    "v = np.array([3, 5, 1])\n",
    "w = np.array([2, 1, -3])\n",
    "\n",
    "print(\"d(u,w) :\", np.linalg.norm(u-w))"
   ]
  },
  {
   "cell_type": "markdown",
   "id": "72dc75a7",
   "metadata": {},
   "source": [
    "\\begin{align*}\n",
    "k. Find \\,proj(\\mathbf{u},\\mathbf{v}).\n",
    "\\end{align*}\n",
    "\n",
    "\\begin{align*}\n",
    "\\text{proj}(\\mathbf{u}, \\mathbf{v}) &= \\frac{\\mathbf{u} \\cdot \\mathbf{v}}{\\|\\mathbf{v}\\|^2} \\mathbf{v} \\\\\n",
    "&= \\frac{\\begin{bmatrix} 1 \\\\ -2 \\\\ 4 \\end{bmatrix} \\cdot \\begin{bmatrix} 3 \\\\ 5 \\\\ 1 \\end{bmatrix}}{\\left\\| \\begin{bmatrix} 3 \\\\ 5 \\\\ 1 \\end{bmatrix} \\right\\|^2} \\begin{bmatrix} 3 \\\\ 5 \\\\ 1 \\end{bmatrix} \\\\\n",
    "&= \\frac{1 \\cdot 3 + (-2) \\cdot 5 + 4 \\cdot 1}{3^2 + 5^2 + 1^2} \\begin{bmatrix} 3 \\\\ 5 \\\\ 1 \\end{bmatrix} \\\\\n",
    "&= \\frac{-7}{35} \\begin{bmatrix} 3 \\\\ 5 \\\\ 1 \\end{bmatrix} \\\\\n",
    "&= \\begin{bmatrix} -0.25714286 \\\\ -0.42857143 \\\\ -0.08571429 \\end{bmatrix}.\n",
    "\\end{align*}"
   ]
  },
  {
   "cell_type": "code",
   "execution_count": 45,
   "id": "b37d0eef",
   "metadata": {},
   "outputs": [
    {
     "name": "stdout",
     "output_type": "stream",
     "text": [
      "proj(u,v) : [-0.25714286 -0.42857143 -0.08571429]\n"
     ]
    }
   ],
   "source": [
    "u = np.array([1, -2, 4])\n",
    "v = np.array([3, 5, 1])\n",
    "w = np.array([2, 1, -3])\n",
    "\n",
    "print(\"proj(u,v) :\", u.dot(v)*v/(np.linalg.norm(v)**2))"
   ]
  },
  {
   "cell_type": "markdown",
   "id": "0f124a0c",
   "metadata": {},
   "source": [
    "\\begin{align*}\n",
    "l. Find \\,proj(\\mathbf{w},\\mathbf{v}).\n",
    "\\end{align*}\n",
    "\n",
    "\\begin{align*}\n",
    "\\text{proj}(\\mathbf{w}, \\mathbf{v}) &= \\frac{\\mathbf{w} \\cdot \\mathbf{v}}{\\|\\mathbf{v}\\|^2} \\mathbf{v} \\\\\n",
    "&= \\frac{\\begin{bmatrix} 2 \\\\ 1 \\\\ -3 \\end{bmatrix} \\cdot \\begin{bmatrix} 3 \\\\ 5 \\\\ 1 \\end{bmatrix}}{\\left\\| \\begin{bmatrix} 3 \\\\ 5 \\\\ 1 \\end{bmatrix} \\right\\|^2} \\begin{bmatrix} 3 \\\\ 5 \\\\ 1 \\end{bmatrix} \\\\\n",
    "&= \\frac{2 \\cdot 3 + 1 \\cdot 5 + (-3) \\cdot 1}{3^2 + 5^2 + 1^2} \\begin{bmatrix} 3 \\\\ 5 \\\\ 1 \\end{bmatrix} \\\\\n",
    "&= \\frac{5}{35} \\begin{bmatrix} 3 \\\\ 5 \\\\ 1 \\end{bmatrix} \\\\\n",
    "&= \\begin{bmatrix} 0.68571429 \\\\ 1.14285714 \\\\ 0.22857143 \\end{bmatrix}.\n",
    "\\end{align*}"
   ]
  },
  {
   "cell_type": "code",
   "execution_count": 46,
   "id": "1cf10e38",
   "metadata": {},
   "outputs": [
    {
     "name": "stdout",
     "output_type": "stream",
     "text": [
      "proj(w,v) : [0.68571429 1.14285714 0.22857143]\n"
     ]
    }
   ],
   "source": [
    "u = np.array([1, -2, 4])\n",
    "v = np.array([3, 5, 1])\n",
    "w = np.array([2, 1, -3])\n",
    "\n",
    "print(\"proj(w,v) :\", w.dot(v)*v/(np.linalg.norm(v)**2))"
   ]
  },
  {
   "cell_type": "markdown",
   "id": "bb228072",
   "metadata": {},
   "source": [
    "\\begin{align*}\n",
    "m. Find\\, proj(\\mathbf{u},\\mathbf{w}).\n",
    "\\end{align*}\n",
    "\n",
    "\\begin{align*}\n",
    "\\text{proj}(\\mathbf{u}, \\mathbf{w}) &= \\frac{\\mathbf{u} \\cdot \\mathbf{w}}{\\|\\mathbf{w}\\|^2} \\mathbf{w} \\\\\n",
    "&= \\frac{\\begin{bmatrix} 1 \\\\ -2 \\\\ 4 \\end{bmatrix} \\cdot \\begin{bmatrix} 2 \\\\ 1 \\\\ -3 \\end{bmatrix}}{\\left\\| \\begin{bmatrix} 2 \\\\ 1 \\\\ -3 \\end{bmatrix} \\right\\|^2} \\begin{bmatrix} 2 \\\\ 1 \\\\ -3 \\end{bmatrix} \\\\\n",
    "&= \\frac{1 \\cdot 2 + (-2) \\cdot 1 + 4 \\cdot (-3)}{2^2 + 1^2 + (-3)^2} \\begin{bmatrix} 2 \\\\ 1 \\\\ -3 \\end{bmatrix} \\\\\n",
    "&= \\frac{-9}{14} \\begin{bmatrix} 2 \\\\ 1 \\\\ -3 \\end{bmatrix} \\\\\n",
    "&= \\begin{bmatrix} -1.71428571 \\\\ -0.85714286 \\\\ 2.57142857 \\end{bmatrix}.\n",
    "\\end{align*}"
   ]
  },
  {
   "cell_type": "code",
   "execution_count": 47,
   "id": "b68a9022",
   "metadata": {},
   "outputs": [
    {
     "name": "stdout",
     "output_type": "stream",
     "text": [
      "proj(u,w) : [-1.71428571 -0.85714286  2.57142857]\n"
     ]
    }
   ],
   "source": [
    "u = np.array([1, -2, 4])\n",
    "v = np.array([3, 5, 1])\n",
    "w = np.array([2, 1, -3])\n",
    "\n",
    "print(\"proj(u,w) :\", u.dot(w)*w/(np.linalg.norm(w)**2))"
   ]
  },
  {
   "cell_type": "markdown",
   "id": "67beedad",
   "metadata": {},
   "source": [
    "\\begin{align*}\n",
    "\\end{align*}"
   ]
  },
  {
   "cell_type": "markdown",
   "id": "290c2ed5",
   "metadata": {},
   "source": [
    "\\begin{align*}\n",
    "Problem\\, 2\n",
    "\\end{align*}"
   ]
  },
  {
   "cell_type": "markdown",
   "id": "75bb8937",
   "metadata": {},
   "source": [
    "\\begin{align*}\n",
    "Let\\, \\mathbf{u} = (1,3,-4), \\mathbf{v} = (2,1,5), and\\, \\mathbf{w} = (3,-2,6). Find:\n",
    "\\end{align*}\n",
    "\n",
    "\\begin{align*}\n",
    "a. 3\\mathbf{u} - 2\\mathbf{v}\n",
    "\\end{align*}\n",
    "\n",
    "\\begin{align*}\n",
    "3\\mathbf{u} - 2\\mathbf{v} &= 3\\begin{bmatrix} 1 \\\\ 3 \\\\ -4 \\end{bmatrix} - 2\\begin{bmatrix} 2 \\\\ 1 \\\\ 5 \\end{bmatrix} \\\\\n",
    "&= \\begin{bmatrix} 3 \\\\ 9 \\\\ -12 \\end{bmatrix} - \\begin{bmatrix} 4 \\\\ 2 \\\\ 10 \\end{bmatrix} \\\\\n",
    "&= \\begin{bmatrix} -1 \\\\ 7 \\\\ -22 \\end{bmatrix}.\n",
    "\\end{align*}\n"
   ]
  },
  {
   "cell_type": "code",
   "execution_count": 54,
   "id": "a75123d3",
   "metadata": {},
   "outputs": [
    {
     "name": "stdout",
     "output_type": "stream",
     "text": [
      "Result: [ -1   7 -22]\n"
     ]
    }
   ],
   "source": [
    "u = np.array([1,3,-4])\n",
    "v = np.array([2,1,5])\n",
    "w = np.array([3,-2,6])\n",
    "\n",
    "result = 3*u - 2*v\n",
    "\n",
    "print(\"Result:\", result)"
   ]
  },
  {
   "cell_type": "markdown",
   "id": "c4669431",
   "metadata": {},
   "source": [
    "\\begin{align*}\n",
    "b. 5\\mathbf{u} + 3\\mathbf{v} - 4\\mathbf{w}\n",
    "\\end{align*}\n",
    "\n",
    "\\begin{align*}\n",
    "5\\mathbf{u} + 3\\mathbf{v} - 4\\mathbf{w} &= 5\\begin{bmatrix} 1 \\\\ 3 \\\\ -4 \\end{bmatrix} + 3\\begin{bmatrix} 2 \\\\ 1 \\\\ 5 \\end{bmatrix} - 4\\begin{bmatrix} 3 \\\\ -2 \\\\ 6 \\end{bmatrix} \\\\\n",
    "&= \\begin{bmatrix} 5 \\\\ 15 \\\\ -20 \\end{bmatrix} + \\begin{bmatrix} 6 \\\\ 3 \\\\ 15 \\end{bmatrix} - \\begin{bmatrix} 12 \\\\ -8 \\\\ -24 \\end{bmatrix} \\\\\n",
    "&= \\begin{bmatrix} -1 \\\\ 26 \\\\ -29 \\end{bmatrix}.\n",
    "\\end{align*}"
   ]
  },
  {
   "cell_type": "code",
   "execution_count": 55,
   "id": "a881af3f",
   "metadata": {},
   "outputs": [
    {
     "name": "stdout",
     "output_type": "stream",
     "text": [
      "Result: [ -1  26 -29]\n"
     ]
    }
   ],
   "source": [
    "u = np.array([1,3,-4])\n",
    "v = np.array([2,1,5])\n",
    "w = np.array([3,-2,6])\n",
    "\n",
    "result = 5*u + 3*v - 4*w\n",
    "\n",
    "print(\"Result:\", result)"
   ]
  },
  {
   "cell_type": "markdown",
   "id": "c465def5",
   "metadata": {},
   "source": [
    "\\begin{align*}\n",
    "c. \\mathbf{u} * \\mathbf{v}, \\mathbf{v} * \\mathbf{w}, \\mathbf{u} * \\mathbf{w}\n",
    "\\end{align*}\n",
    "\n",
    "\\begin{align*}\n",
    "\\mathbf{u} \\cdot \\mathbf{v} &= \\begin{bmatrix} 1 \\\\ 3 \\\\ -4 \\end{bmatrix} \\cdot \\begin{bmatrix} 2 \\\\ 1 \\\\ 5 \\end{bmatrix} \\\\\n",
    "&= 1 \\cdot 2 + 3 \\cdot 1 + (-4) \\cdot 5 \\\\\n",
    "&= -15, \\\\\n",
    "\\mathbf{v} \\cdot \\mathbf{w} &= \\begin{bmatrix} 2 \\\\ 1 \\\\ 5 \\end{bmatrix} \\cdot \\begin{bmatrix} 3 \\\\ -2 \\\\ 6 \\end{bmatrix} \\\\\n",
    "&= 2 \\cdot 3 + 1 \\cdot (-2) + 5 \\cdot 6 \\\\\n",
    "&= 34, \\\\\n",
    "\\mathbf{u} \\cdot \\mathbf{w} &= \\begin{bmatrix} 1 \\\\ 3 \\\\ -4 \\end{bmatrix} \\cdot \\begin{bmatrix} 3 \\\\ -2 \\\\ 6 \\end{bmatrix} \\\\\n",
    "&= 1 \\cdot 3 + 3 \\cdot (-2) + (-4) \\cdot 6 \\\\\n",
    "&= -27.\n",
    "\\end{align*}"
   ]
  },
  {
   "cell_type": "code",
   "execution_count": 57,
   "id": "b268ead9",
   "metadata": {},
   "outputs": [
    {
     "name": "stdout",
     "output_type": "stream",
     "text": [
      "u*v = -15\n",
      "v*w = 34\n",
      "u*w = -27\n"
     ]
    }
   ],
   "source": [
    "u = np.array([1,3,-4])\n",
    "v = np.array([2,1,5])\n",
    "w = np.array([3,-2,6])\n",
    "\n",
    "u_dot_v = np.dot(u, v)\n",
    "v_dot_w = np.dot(v, w)\n",
    "u_dot_w = np.dot(u, w)\n",
    "\n",
    "print(\"u*v =\", u_dot_v)\n",
    "print(\"v*w =\", v_dot_w)\n",
    "print(\"u*w =\", u_dot_w)"
   ]
  },
  {
   "cell_type": "markdown",
   "id": "05320920",
   "metadata": {},
   "source": [
    "\\begin{align*}\n",
    "d. \\|u\\|, \\|v\\|, \\|w\\|\n",
    "\\end{align*}\n",
    "\n",
    "\\begin{align*}\n",
    "\\|\\mathbf{u}\\| &= \\left\\| \\begin{bmatrix} 1 \\\\ 3 \\\\ -4 \\end{bmatrix} \\right\\| \\\\\n",
    "&= \\sqrt{1^2 + 3^2 + (-4)^2} \\\\\n",
    "&= \\sqrt{1 + 9 + 16} \\\\\n",
    "&= \\sqrt{26}, \\\\\n",
    "\\|\\mathbf{v}\\| &= \\left\\| \\begin{bmatrix} 2 \\\\ 1 \\\\ 5 \\end{bmatrix} \\right\\| \\\\\n",
    "&= \\sqrt{2^2 + 1^2 + 5^2} \\\\\n",
    "&= \\sqrt{4 + 1 + 25} \\\\\n",
    "&= \\sqrt{30}, \\\\\n",
    "\\|\\mathbf{w}\\| &= \\left\\| \\begin{bmatrix} 3 \\\\ -2 \\\\ 6 \\end{bmatrix} \\right\\| \\\\\n",
    "&= \\sqrt{3^2 + (-2)^2 + 6^2} \\\\\n",
    "&= \\sqrt{9 + 4 + 36} \\\\\n",
    "&= \\sqrt{49}.\n",
    "\\end{align*}"
   ]
  },
  {
   "cell_type": "code",
   "execution_count": 60,
   "id": "e81f7c25",
   "metadata": {},
   "outputs": [
    {
     "name": "stdout",
     "output_type": "stream",
     "text": [
      "||u|| = 5.0990195135927845\n",
      "||v|| = 5.477225575051661\n",
      "||w|| = 7.0\n"
     ]
    }
   ],
   "source": [
    "u = np.array([1,3,-4])\n",
    "v = np.array([2,1,5])\n",
    "w = np.array([3,-2,6])\n",
    "\n",
    "norm_u = np.linalg.norm(u)\n",
    "norm_v = np.linalg.norm(v)\n",
    "norm_w = np.linalg.norm(w)\n",
    "\n",
    "print(\"||u|| =\", norm_u)\n",
    "print(\"||v|| =\", norm_v)\n",
    "print(\"||w|| =\", norm_w)"
   ]
  },
  {
   "cell_type": "markdown",
   "id": "9beb726d",
   "metadata": {},
   "source": [
    "\\begin{align*}\n",
    "e. If \\,\\theta \\,is \\,the\\, angle\\, between \\,\\mathbf{u} \\,and\\, \\mathbf{v},\\, find\\, cos\\, \\theta.\n",
    "\\end{align*}\n",
    "\n",
    "\\begin{align*}\n",
    "\\mathbf{u} &= \\begin{bmatrix} 1 \\\\ 3 \\\\ -4 \\end{bmatrix} \\\\\n",
    "\\mathbf{v} &= \\begin{bmatrix} 2 \\\\ 1 \\\\ 5 \\end{bmatrix} \\\\\n",
    "\\cos \\theta &= \\frac{\\mathbf{u} \\cdot \\mathbf{v}}{\\|\\mathbf{u}\\| \\cdot \\|\\mathbf{v}\\|} \\\\\n",
    "&= \\frac{\\begin{bmatrix} 1 \\\\ 3 \\\\ -4 \\end{bmatrix} \\cdot \\begin{bmatrix} 2 \\\\ 1 \\\\ 5 \\end{bmatrix}}{\\sqrt{1^2 + 3^2 + (-4)^2} \\cdot \\sqrt{2^2 + 1^2 + 5^2}} \\\\\n",
    "&= \\frac{(1 \\cdot 2) + (3 \\cdot 1) + ((-4) \\cdot 5)}{\\sqrt{26} \\cdot \\sqrt{30}} \\\\\n",
    "&= \\frac{2 + 3 - 20}{\\sqrt{26} \\cdot \\sqrt{30}} \\\\\n",
    "&= \\frac{-15}{\\sqrt{26} \\cdot \\sqrt{30}}\n",
    "\\end{align*}"
   ]
  },
  {
   "cell_type": "code",
   "execution_count": 61,
   "id": "9287478f",
   "metadata": {},
   "outputs": [
    {
     "name": "stdout",
     "output_type": "stream",
     "text": [
      "cos(theta) = -0.5370861555295747\n"
     ]
    }
   ],
   "source": [
    "u = np.array([1,3,-4])\n",
    "v = np.array([2,1,5])\n",
    "w = np.array([3,-2,6])\n",
    "\n",
    "cos_theta = np.dot(u, v) / (np.linalg.norm(u) * np.linalg.norm(v))\n",
    "\n",
    "print(\"cos(theta) =\", cos_theta)"
   ]
  },
  {
   "cell_type": "markdown",
   "id": "a971cbe7",
   "metadata": {},
   "source": [
    "\\begin{align*}\n",
    "f. If\\, \\alpha\\, is\\, the\\, angle\\, between\\, \\mathbf{v}\\, and\\, \\mathbf{w},\\, find \\,cos\\, \\alpha.\n",
    "\\end{align*}\n",
    "\n",
    "\\begin{align*}\n",
    "\\mathbf{v} &= \\begin{bmatrix} 2 \\\\ 1 \\\\ 5 \\end{bmatrix} \\\\\n",
    "\\mathbf{w} &= \\begin{bmatrix} 3 \\\\ -2 \\\\ 6 \\end{bmatrix} \\\\\n",
    "\\cos \\alpha &= \\frac{\\mathbf{v} \\cdot \\mathbf{w}}{\\|\\mathbf{v}\\| \\cdot \\|\\mathbf{w}\\|} \\\\\n",
    "&= \\frac{\\begin{bmatrix} 2 \\\\ 1 \\\\ 5 \\end{bmatrix} \\cdot \\begin{bmatrix} 3 \\\\ -2 \\\\ 6 \\end{bmatrix}}{\\sqrt{2^2 + 1^2 + 5^2} \\cdot \\sqrt{3^2 + (-2)^2 + 6^2}} \\\\\n",
    "&= \\frac{(2 \\cdot 3) + (1 \\cdot (-2)) + (5 \\cdot 6)}{\\sqrt{30} \\cdot \\sqrt{49}} \\\\\n",
    "&= \\frac{6 - 2 + 30}{\\sqrt{30} \\cdot 7} \\\\\n",
    "&= \\frac{34}{7\\sqrt{30}}\n",
    "\\end{align*}"
   ]
  },
  {
   "cell_type": "code",
   "execution_count": 62,
   "id": "ab49bc2c",
   "metadata": {},
   "outputs": [
    {
     "name": "stdout",
     "output_type": "stream",
     "text": [
      "cos(alpha) = 0.8867889026274118\n"
     ]
    }
   ],
   "source": [
    "u = np.array([1,3,-4])\n",
    "v = np.array([2,1,5])\n",
    "w = np.array([3,-2,6])\n",
    "\n",
    "cos_alpha = np.dot(v, w) / (np.linalg.norm(v) * np.linalg.norm(w))\n",
    "\n",
    "print(\"cos(alpha) =\", cos_alpha)"
   ]
  },
  {
   "cell_type": "markdown",
   "id": "eab28c4f",
   "metadata": {},
   "source": [
    "\\begin{align*}\n",
    "g. If\\, \\beta\\, is\\, the\\, angle\\, between\\, \\mathbf{u}\\, and\\, \\mathbf{w}, find\\, cos\\, \\beta.\n",
    "\\end{align*}\n",
    "\n",
    "\\begin{align*}\n",
    "\\mathbf{u} &= \\begin{bmatrix} 1 \\\\ 3 \\\\ -4 \\end{bmatrix} \\\\\n",
    "\\mathbf{w} &= \\begin{bmatrix} 3 \\\\ -2 \\\\ 6 \\end{bmatrix} \\\\\n",
    "\\cos \\beta &= \\frac{\\mathbf{u} \\cdot \\mathbf{w}}{\\|\\mathbf{u}\\| \\cdot \\|\\mathbf{w}\\|} \\\\\n",
    "&= \\frac{\\begin{bmatrix} 1 \\\\ 3 \\\\ -4 \\end{bmatrix} \\cdot \\begin{bmatrix} 3 \\\\ -2 \\\\ 6 \\end{bmatrix}}{\\sqrt{1^2 + 3^2 + (-4)^2} \\cdot \\sqrt{3^2 + (-2)^2 + 6^2}} \\\\\n",
    "&= \\frac{(1 \\cdot 3) + (3 \\cdot (-2)) + ((-4) \\cdot 6)}{\\sqrt{26} \\cdot \\sqrt{49}} \\\\\n",
    "&= \\frac{3 - 6 - 24}{\\sqrt{26} \\cdot 7} \\\\\n",
    "&= \\frac{-27}{7\\sqrt{26}}\n",
    "\\end{align*}"
   ]
  },
  {
   "cell_type": "code",
   "execution_count": 64,
   "id": "3643fd22",
   "metadata": {},
   "outputs": [
    {
     "name": "stdout",
     "output_type": "stream",
     "text": [
      "cos(beta) = -0.7564479498187099\n"
     ]
    }
   ],
   "source": [
    "u = np.array([1,3,-4])\n",
    "v = np.array([2,1,5])\n",
    "w = np.array([3,-2,6])\n",
    "\n",
    "cos_beta = np.dot(u, w) / (np.linalg.norm(u) * np.linalg.norm(w))\n",
    "\n",
    "print(\"cos(beta) =\", cos_beta)"
   ]
  },
  {
   "cell_type": "markdown",
   "id": "5444f7bf",
   "metadata": {},
   "source": [
    "\\begin{align*}\n",
    "h. Find\\, d(\\mathbf{u},\\mathbf{v}).\n",
    "\\end{align*}\n",
    "\n",
    "\\begin{align*}\n",
    "\\mathbf{u} &= \\begin{bmatrix} 1 \\\\ 3 \\\\ -4 \\end{bmatrix} \\\\\n",
    "\\mathbf{v} &= \\begin{bmatrix} 2 \\\\ 1 \\\\ 5 \\end{bmatrix} \\\\\n",
    "\\|\\mathbf{u} - \\mathbf{v}\\| &= \\sqrt{(\\mathbf{u} - \\mathbf{v}) \\cdot (\\mathbf{u} - \\mathbf{v})} \\\\\n",
    "&= \\sqrt{\\begin{bmatrix} -1 \\\\ 2 \\\\ -9 \\end{bmatrix} \\cdot \\begin{bmatrix} -1 \\\\ 2 \\\\ -9 \\end{bmatrix}} \\\\\n",
    "&= \\sqrt{(-1 \\cdot -1) + (2 \\cdot 2) + (-9 \\cdot -9)} \\\\\n",
    "&= \\sqrt{1 + 4 + 81} \\\\\n",
    "&= \\sqrt{86}\n",
    "\\end{align*}"
   ]
  },
  {
   "cell_type": "code",
   "execution_count": 65,
   "id": "23d27d5b",
   "metadata": {},
   "outputs": [
    {
     "name": "stdout",
     "output_type": "stream",
     "text": [
      "d(u,v) : 9.273618495495704\n"
     ]
    }
   ],
   "source": [
    "u = np.array([1,3,-4])\n",
    "v = np.array([2,1,5])\n",
    "w = np.array([3,-2,6])\n",
    "\n",
    "\n",
    "print(\"d(u,v) :\", np.linalg.norm(u-v))"
   ]
  },
  {
   "cell_type": "markdown",
   "id": "71de037c",
   "metadata": {},
   "source": [
    "\\begin{align*}\n",
    "i. Find\\, d(\\mathbf{w},\\mathbf{v}).\n",
    "\\end{align*}\n",
    "\n",
    "\\begin{align*}\n",
    "\\mathbf{v} &= \\begin{bmatrix} 2 \\\\ 1 \\\\ 5 \\end{bmatrix} \\\\\n",
    "\\mathbf{w} &= \\begin{bmatrix} 3 \\\\ -2 \\\\ 6 \\end{bmatrix} \\\\\n",
    "\\|\\mathbf{w} - \\mathbf{v}\\| &= \\sqrt{(\\mathbf{w} - \\mathbf{v}) \\cdot (\\mathbf{w} - \\mathbf{v})} \\\\\n",
    "&= \\sqrt{\\begin{bmatrix} 1 \\\\ -3 \\\\ 1 \\end{bmatrix} \\cdot \\begin{bmatrix} 1 \\\\ -3 \\\\ 1 \\end{bmatrix}} \\\\\n",
    "&= \\sqrt{(1 \\cdot 1) + ((-3) \\cdot (-3)) + (1 \\cdot 1)} \\\\\n",
    "&= \\sqrt{1 + 9 + 1} \\\\\n",
    "&= \\sqrt{11}\n",
    "\\end{align*}"
   ]
  },
  {
   "cell_type": "code",
   "execution_count": 67,
   "id": "72df5aa8",
   "metadata": {},
   "outputs": [
    {
     "name": "stdout",
     "output_type": "stream",
     "text": [
      "d(w,v) : 3.3166247903554\n"
     ]
    }
   ],
   "source": [
    "u = np.array([1,3,-4])\n",
    "v = np.array([2,1,5])\n",
    "w = np.array([3,-2,6])\n",
    "\n",
    "\n",
    "print(\"d(w,v) :\", np.linalg.norm(w-v))"
   ]
  },
  {
   "cell_type": "markdown",
   "id": "0b1373e0",
   "metadata": {},
   "source": [
    "\\begin{align*}\n",
    "j. Find\\, d(\\mathbf{u},\\mathbf{w}).\n",
    "\\end{align*}\n",
    "\n",
    "\\begin{align*}\n",
    "\\mathbf{u} &= \\begin{bmatrix} 1 \\\\ 3 \\\\ -4 \\end{bmatrix} \\\\\n",
    "\\mathbf{w} &= \\begin{bmatrix} 3 \\\\ -2 \\\\ 6 \\end{bmatrix} \\\\\n",
    "\\|\\mathbf{u} - \\mathbf{w}\\| &= \\sqrt{(\\mathbf{u} - \\mathbf{w}) \\cdot (\\mathbf{u} - \\mathbf{w})} \\\\\n",
    "&= \\sqrt{\\begin{bmatrix} -2 \\\\ 5 \\\\ -10 \\end{bmatrix} \\cdot \\begin{bmatrix} -2 \\\\ 5 \\\\ -10 \\end{bmatrix}} \\\\\n",
    "&= \\sqrt{(-2 \\cdot -2) + (5 \\cdot 5) + (-10 \\cdot -10)} \\\\\n",
    "&= \\sqrt{4 + 25 + 100} \\\\\n",
    "&= \\sqrt{129}\n",
    "\\end{align*}"
   ]
  },
  {
   "cell_type": "code",
   "execution_count": 68,
   "id": "ef521ae6",
   "metadata": {},
   "outputs": [
    {
     "name": "stdout",
     "output_type": "stream",
     "text": [
      "d(u,w) : 11.357816691600547\n"
     ]
    }
   ],
   "source": [
    "u = np.array([1,3,-4])\n",
    "v = np.array([2,1,5])\n",
    "w = np.array([3,-2,6])\n",
    "\n",
    "\n",
    "print(\"d(u,w) :\", np.linalg.norm(u-w))"
   ]
  },
  {
   "cell_type": "markdown",
   "id": "079ffc5e",
   "metadata": {},
   "source": [
    "\\begin{align*}\n",
    "k. Find\\, proj(\\mathbf{u},\\mathbf{v}).\n",
    "\\end{align*}\n",
    "\n",
    "\\begin{align*}\n",
    "\\mathbf{u} &= \\begin{bmatrix} 1 \\\\ 3 \\\\ -4 \\end{bmatrix} \\\\\n",
    "\\mathbf{v} &= \\begin{bmatrix} 2 \\\\ 1 \\\\ 5 \\end{bmatrix} \\\\\n",
    "\\text{proj}(\\mathbf{u}, \\mathbf{v}) &= \\frac{\\mathbf{u} \\cdot \\mathbf{v}}{\\|\\mathbf{v}\\|^2} \\cdot \\mathbf{v} \\\\\n",
    "&= \\frac{\\begin{bmatrix} 1 \\\\ 3 \\\\ -4 \\end{bmatrix} \\cdot \\begin{bmatrix} 2 \\\\ 1 \\\\ 5 \\end{bmatrix}}{\\sqrt{2^2 + 1^2 + 5^2}^2} \\cdot \\begin{bmatrix} 2 \\\\ 1 \\\\ 5 \\end{bmatrix} \\\\\n",
    "&= \\frac{(1 \\cdot 2) + (3 \\cdot 1) + ((-4) \\cdot 5)}{30} \\cdot \\begin{bmatrix} 2 \\\\ 1 \\\\ 5 \\end{bmatrix} \\\\\n",
    "&= \\frac{2 + 3 - 20}{30} \\cdot \\begin{bmatrix} 2 \\\\ 1 \\\\ 5 \\end{bmatrix} \\\\\n",
    "&= -\\frac{15}{30} \\cdot \\begin{bmatrix} 2 \\\\ 1 \\\\ 5 \\end{bmatrix} \\\\\n",
    "&= -\\frac{1}{2} \\cdot \\begin{bmatrix} 2 \\\\ 1 \\\\ 5 \\end{bmatrix} \\\\\n",
    "&= \\begin{bmatrix} -1 \\\\ -\\frac{1}{2} \\\\ -\\frac{5}{2} \\end{bmatrix}\n",
    "\\end{align*}"
   ]
  },
  {
   "cell_type": "code",
   "execution_count": 69,
   "id": "6ddeb766",
   "metadata": {},
   "outputs": [
    {
     "name": "stdout",
     "output_type": "stream",
     "text": [
      "proj(u,v) : [-1.  -0.5 -2.5]\n"
     ]
    }
   ],
   "source": [
    "u = np.array([1,3,-4])\n",
    "v = np.array([2,1,5])\n",
    "w = np.array([3,-2,6])\n",
    "\n",
    "print(\"proj(u,v) :\", u.dot(v)*v/(np.linalg.norm(v)**2))"
   ]
  },
  {
   "cell_type": "markdown",
   "id": "b87887a8",
   "metadata": {},
   "source": [
    "\\begin{align*}\n",
    "l. Find\\, proj(\\mathbf{w},\\mathbf{v}).\n",
    "\\end{align*}\n",
    "\n",
    "\\begin{align*}\n",
    "\\mathbf{v} &= \\begin{bmatrix} 2 \\\\ 1 \\\\ 5 \\end{bmatrix} \\\\\n",
    "\\mathbf{w} &= \\begin{bmatrix} 3 \\\\ -2 \\\\ 6 \\end{bmatrix} \\\\\n",
    "\\text{proj}(\\mathbf{w}, \\mathbf{v}) &= \\frac{\\mathbf{w} \\cdot \\mathbf{v}}{\\|\\mathbf{v}\\|^2} \\cdot \\mathbf{v} \\\\\n",
    "&= \\frac{\\begin{bmatrix} 3 \\\\ -2 \\\\ 6 \\end{bmatrix} \\cdot \\begin{bmatrix} 2 \\\\ 1 \\\\ 5 \\end{bmatrix}}{\\sqrt{2^2 + 1^2 + 5^2}^2} \\cdot \\begin{bmatrix} 2 \\\\ 1 \\\\ 5 \\end{bmatrix} \\\\\n",
    "&= \\frac{(3 \\cdot 2) + ((-2) \\cdot 1) + (6 \\cdot 5)}{30} \\cdot \\begin{bmatrix} 2 \\\\ 1 \\\\ 5 \\end{bmatrix} \\\\\n",
    "&= \\frac{6 - 2 + 30}{30} \\cdot \\begin{bmatrix} 2 \\\\ 1 \\\\ 5 \\end{bmatrix} \\\\\n",
    "&= \\frac{34}{30} \\cdot \\begin{bmatrix} 2 \\\\ 1 \\\\ 5 \\end{bmatrix} \\\\\n",
    "&= \\frac{17}{15} \\cdot \\begin{bmatrix} 2 \\\\ 1 \\\\ 5 \\end{bmatrix} \\\\\n",
    "&= \\begin{bmatrix} \\frac{34}{15} \\\\ \\frac{17}{15} \\\\ \\frac{85}{15} \\end{bmatrix}\n",
    "\\end{align*}"
   ]
  },
  {
   "cell_type": "code",
   "execution_count": 70,
   "id": "8756361d",
   "metadata": {},
   "outputs": [
    {
     "name": "stdout",
     "output_type": "stream",
     "text": [
      "proj(w,v) : [2.26666667 1.13333333 5.66666667]\n"
     ]
    }
   ],
   "source": [
    "u = np.array([1,3,-4])\n",
    "v = np.array([2,1,5])\n",
    "w = np.array([3,-2,6])\n",
    "\n",
    "print(\"proj(w,v) :\", w.dot(v)*v/(np.linalg.norm(v)**2))"
   ]
  },
  {
   "cell_type": "markdown",
   "id": "c81d6770",
   "metadata": {},
   "source": [
    "\\begin{align*}\n",
    "m. Find\\, proj(\\mathbf{u},\\mathbf{w}).\n",
    "\\end{align*}\n",
    "\n",
    "\\begin{align*}\n",
    "\\mathbf{u} &= \\begin{bmatrix} 1 \\\\ 3 \\\\ -4 \\end{bmatrix} \\\\\n",
    "\\mathbf{w} &= \\begin{bmatrix} 3 \\\\ -2 \\\\ 6 \\end{bmatrix} \\\\\n",
    "\\text{proj}(\\mathbf{u}, \\mathbf{w}) &= \\frac{\\mathbf{u} \\cdot \\mathbf{w}}{\\|\\mathbf{w}\\|^2} \\cdot \\mathbf{w} \\\\\n",
    "&= \\frac{\\begin{bmatrix} 1 \\\\ 3 \\\\ -4 \\end{bmatrix} \\cdot \\begin{bmatrix} 3 \\\\ -2 \\\\ 6 \\end{bmatrix}}{\\sqrt{3^2 + (-2)^2 + 6^2}^2} \\cdot \\begin{bmatrix} 3 \\\\ -2 \\\\ 6 \\end{bmatrix} \\\\\n",
    "&= \\frac{(1 \\cdot 3) + (3 \\cdot (-2)) + ((-4) \\cdot 6)}{49} \\cdot \\begin{bmatrix} 3 \\\\ -2 \\\\ 6 \\end{bmatrix} \\\\\n",
    "&= \\frac{3 - 6 - 24}{49} \\cdot \\begin{bmatrix} 3 \\\\ -2 \\\\ 6 \\end{bmatrix} \\\\\n",
    "&= \\frac{-27}{49} \\cdot \\begin{bmatrix} 3 \\\\ -2 \\\\ 6 \\end{bmatrix} \\\\\n",
    "&= \\begin{bmatrix} -\\frac{81}{49} \\\\ \\frac{54}{49} \\\\ -\\frac{162}{49} \\end{bmatrix}\n",
    "\\end{align*}"
   ]
  },
  {
   "cell_type": "code",
   "execution_count": 75,
   "id": "926ec0d0",
   "metadata": {},
   "outputs": [
    {
     "name": "stdout",
     "output_type": "stream",
     "text": [
      "proj(u,w) : [-1.65306122  1.10204082 -3.30612245]\n"
     ]
    }
   ],
   "source": [
    "u = np.array([1,3,-4])\n",
    "v = np.array([2,1,5])\n",
    "w = np.array([3,-2,6])\n",
    "\n",
    "print(\"proj(u,w) :\", u.dot(w)*w/(np.linalg.norm(w)**2))"
   ]
  },
  {
   "cell_type": "markdown",
   "id": "44d27697",
   "metadata": {},
   "source": [
    "\\begin{align*}\n",
    "\\end{align*}"
   ]
  },
  {
   "cell_type": "markdown",
   "id": "1b40442f",
   "metadata": {},
   "source": [
    "\\begin{align*}\n",
    "Problem\\, 3\n",
    "\\end{align*}"
   ]
  },
  {
   "cell_type": "markdown",
   "id": "829cee7c",
   "metadata": {},
   "source": [
    "\\begin{align*}\n",
    "Let\\, u = (2,-5,4,6,-3), v = (5,-2,1,-7,-4), and\\, w = (2,1,-3). Find:\n",
    "\\end{align*}"
   ]
  },
  {
   "cell_type": "markdown",
   "id": "6df30080",
   "metadata": {},
   "source": [
    "\\begin{align*}\n",
    "a. 4\\mathbf{u} - 3\\mathbf{v}\n",
    "\\end{align*}\n",
    "\n",
    "\\begin{align*}\n",
    "\\mathbf{u} &= \\begin{bmatrix} 2 \\\\ -5 \\\\ 4 \\\\ 6 \\\\ -3 \\end{bmatrix} \\\\\n",
    "\\mathbf{v} &= \\begin{bmatrix} 5 \\\\ -2 \\\\ 1 \\\\ -7 \\\\ -4 \\end{bmatrix} \\\\\n",
    "\\mathbf{w} &= \\begin{bmatrix} 2 \\\\ 1 \\\\ -3 \\end{bmatrix} \\\\\n",
    "\\text{Result} &= 4\\mathbf{u} - 3\\mathbf{v} \\\\\n",
    "&= 4 \\begin{bmatrix} 2 \\\\ -5 \\\\ 4 \\\\ 6 \\\\ -3 \\end{bmatrix} - 3 \\begin{bmatrix} 5 \\\\ -2 \\\\ 1 \\\\ -7 \\\\ -4 \\end{bmatrix} \\\\\n",
    "&= \\begin{bmatrix} 8 \\\\ -20 \\\\ 16 \\\\ 24 \\\\ -12 \\end{bmatrix} - \\begin{bmatrix} 15 \\\\ -6 \\\\ 3 \\\\ -21 \\\\ -12 \\end{bmatrix} \\\\\n",
    "&= \\begin{bmatrix} -7 \\\\ -14 \\\\ 13 \\\\ 45 \\\\ 0 \\end{bmatrix}\n",
    "\\end{align*}"
   ]
  },
  {
   "cell_type": "code",
   "execution_count": 76,
   "id": "467593df",
   "metadata": {},
   "outputs": [
    {
     "name": "stdout",
     "output_type": "stream",
     "text": [
      "Result:  [ -7 -14  13  45   0]\n"
     ]
    }
   ],
   "source": [
    "u = np.array([2, -5, 4, 6, -3])\n",
    "v = np.array([5, -2, 1, -7, -4])\n",
    "w = np.array([2, 1, -3])\n",
    "\n",
    "result = 4*u - 3*v\n",
    "\n",
    "print(\"Result: \", result)"
   ]
  },
  {
   "cell_type": "markdown",
   "id": "73d3a997",
   "metadata": {},
   "source": [
    "\\begin{align*}\n",
    "b. 5\\mathbf{u} + 2\\mathbf{v} - 2\\mathbf{w} = cannot\\, be\\, answered\n",
    "\\end{align*}\n"
   ]
  },
  {
   "cell_type": "markdown",
   "id": "c9776c4f",
   "metadata": {},
   "source": [
    "\\begin{align*}\n",
    "c. \\mathbf{u} * \\mathbf{v}\n",
    "\\end{align*}\n",
    "\n",
    "\\begin{align*}\n",
    "\\mathbf{u} &= \\begin{bmatrix} 2 \\\\ -5 \\\\ 4 \\\\ 6 \\\\ -3 \\end{bmatrix} \\\\\n",
    "\\mathbf{v} &= \\begin{bmatrix} 5 \\\\ -2 \\\\ 1 \\\\ -7 \\\\ -4 \\end{bmatrix} \\\\\n",
    "\\mathbf{u} \\odot \\mathbf{v} &= \\begin{bmatrix} 2 \\cdot 5 \\\\ -5 \\cdot (-2) \\\\ 4 \\cdot 1 \\\\ 6 \\cdot (-7) \\\\ -3 \\cdot (-4) \\end{bmatrix} \\\\\n",
    "&= \\begin{bmatrix} 10 \\\\ 10 \\\\ 4 \\\\ -42 \\\\ 12 \\end{bmatrix}\n",
    "= -6\n",
    "\\end{align*}\n",
    "\n",
    "\\begin{align*}\n",
    "\\mathbf{v} * \\mathbf{w} = cannot\\, be\\, answered\n",
    "\\end{align*}\n",
    "\\begin{align*}\n",
    "\\mathbf{u} * \\mathbf{w} = cannot\\, be\\, answered\n",
    "\\end{align*}"
   ]
  },
  {
   "cell_type": "code",
   "execution_count": 84,
   "id": "2a0c6a14",
   "metadata": {},
   "outputs": [
    {
     "name": "stdout",
     "output_type": "stream",
     "text": [
      "u*v = -6\n"
     ]
    }
   ],
   "source": [
    "u = np.array([2, -5, 4, 6, -3])\n",
    "v = np.array([5, -2, 1, -7, -4])\n",
    "w = np.array([2, 1, -3])\n",
    "\n",
    "u_dot_v = np.dot(u, v)\n",
    "\n",
    "print(\"u*v =\", u_dot_v)"
   ]
  },
  {
   "cell_type": "markdown",
   "id": "c6694c6f",
   "metadata": {},
   "source": [
    "\\begin{align*}\n",
    "d. \\|u\\|, \\|v\\|, \\|w\\|\n",
    "\\end{align*}\n",
    "\n",
    "\\begin{align*}\n",
    "\\mathbf{u} &= \\begin{bmatrix} 2 \\\\ -5 \\\\ 4 \\\\ 6 \\\\ -3 \\end{bmatrix} \\\\\n",
    "\\mathbf{v} &= \\begin{bmatrix} 5 \\\\ -2 \\\\ 1 \\\\ -7 \\\\ -4 \\end{bmatrix} \\\\\n",
    "\\mathbf{w} &= \\begin{bmatrix} 2 \\\\ 1 \\\\ -3 \\end{bmatrix} \\\\\n",
    "\\|\\mathbf{u}\\| &= \\sqrt{2^2 + (-5)^2 + 4^2 + 6^2 + (-3)^2} \\\\\n",
    "&= \\sqrt{4 + 25 + 16 + 36 + 9} \\\\\n",
    "&= \\sqrt{90} \\\\\n",
    "&= 3\\sqrt{10} \\\\\n",
    "\\|\\mathbf{v}\\| &= \\sqrt{5^2 + (-2)^2 + 1^2 + (-7)^2 + (-4)^2} \\\\\n",
    "&= \\sqrt{25 + 4 + 1 + 49 + 16} \\\\\n",
    "&= \\sqrt{95} \\\\\n",
    "\\|\\mathbf{w}\\| &= \\sqrt{2^2 + 1^2 + (-3)^2} \\\\\n",
    "&= \\sqrt{4 + 1 + 9} \\\\\n",
    "&= \\sqrt{14}\n",
    "\\end{align*}\n"
   ]
  },
  {
   "cell_type": "code",
   "execution_count": 86,
   "id": "7fbfbf92",
   "metadata": {},
   "outputs": [
    {
     "name": "stdout",
     "output_type": "stream",
     "text": [
      "||u|| = 9.486832980505138\n",
      "||v|| = 9.746794344808963\n",
      "||w|| = 3.7416573867739413\n"
     ]
    }
   ],
   "source": [
    "u = np.array([2, -5, 4, 6, -3])\n",
    "v = np.array([5, -2, 1, -7, -4])\n",
    "w = np.array([2, 1, -3])\n",
    "\n",
    "norm_u = np.linalg.norm(u)\n",
    "norm_v = np.linalg.norm(v)\n",
    "norm_w = np.linalg.norm(w)\n",
    "\n",
    "print(\"||u|| =\", norm_u)\n",
    "print(\"||v|| =\", norm_v)\n",
    "print(\"||w|| =\", norm_w)"
   ]
  },
  {
   "cell_type": "markdown",
   "id": "70bdc0cb",
   "metadata": {},
   "source": [
    "\\begin{align*}\n",
    "e. If\\, \\theta\\, is\\, the\\, angle\\, between \\,\\mathbf{u} \\,and \\,\\mathbf{v},\\, find\\, cos\\, \\theta.\n",
    "\\end{align*}\n",
    "\n",
    "\n",
    "\\begin{align*}\n",
    "\\mathbf{u} &= \\begin{bmatrix} 2 \\\\ -5 \\\\ 4 \\\\ 6 \\\\ -3 \\end{bmatrix} \\\\\n",
    "\\mathbf{v} &= \\begin{bmatrix} 5 \\\\ -2 \\\\ 1 \\\\ -7 \\\\ -4 \\end{bmatrix} \\\\\n",
    "\\cos \\theta &= \\frac{\\mathbf{u} \\cdot \\mathbf{v}}{\\|\\mathbf{u}\\| \\cdot \\|\\mathbf{v}\\|} \\\\\n",
    "&= \\frac{\\begin{bmatrix} 2 \\\\ -5 \\\\ 4 \\\\ 6 \\\\ -3 \\end{bmatrix} \\cdot \\begin{bmatrix} 5 \\\\ -2 \\\\ 1 \\\\ -7 \\\\ -4 \\end{bmatrix}}{3\\sqrt{10} \\cdot \\sqrt{95}} \\\\\n",
    "&= \\frac{(2 \\cdot 5) + ((-5) \\cdot (-2)) + (4 \\cdot 1) + (6 \\cdot (-7)) + ((-3) \\cdot (-4))}{3\\sqrt{10} \\cdot \\sqrt{95}} \\\\\n",
    "&= \\frac{10 + 10 + 4 - 42 + 12}{3\\sqrt{10} \\cdot \\sqrt{95}} \\\\\n",
    "&= \\frac{-6}{3\\sqrt{10} \\cdot \\sqrt{95}} \\\\\n",
    "&= -\\frac{2}{\\sqrt{10} \\cdot \\sqrt{95}}\n",
    "\\end{align*}"
   ]
  },
  {
   "cell_type": "code",
   "execution_count": 89,
   "id": "dc0d55ea",
   "metadata": {},
   "outputs": [
    {
     "name": "stdout",
     "output_type": "stream",
     "text": [
      "cos(theta) = -0.06488856845230502\n"
     ]
    }
   ],
   "source": [
    "u = np.array([2, -5, 4, 6, -3])\n",
    "v = np.array([5, -2, 1, -7, -4])\n",
    "w = np.array([2, 1, -3])\n",
    "\n",
    "cos_theta = np.dot(u, v) / (np.linalg.norm(u) * np.linalg.norm(v))\n",
    "\n",
    "print(\"cos(theta) =\", cos_theta)"
   ]
  },
  {
   "cell_type": "markdown",
   "id": "500859c5",
   "metadata": {},
   "source": [
    "\\begin{align*}\n",
    "f. If\\, \\alpha\\, is\\, the\\, angle\\, between \\,\\mathbf{v} \\,and \\,\\mathbf{w},\\, find\\, cos\\, \\alpha.\n",
    "\\end{align*}\n",
    "\n",
    "\\begin{align*}\n",
    "cos\\, \\alpha = cannot\\, be\\, answered\n",
    "\\end{align*}"
   ]
  },
  {
   "cell_type": "markdown",
   "id": "252bf02a",
   "metadata": {},
   "source": [
    "\\begin{align*}\n",
    "g. If\\, \\beta\\, is\\, the\\, angle\\, between \\,\\mathbf{u} \\,and \\,\\mathbf{w},\\, find\\, cos\\, \\beta.\n",
    "\\end{align*}\n",
    "\n",
    "\\begin{align*}\n",
    "cos\\, \\beta = cannot\\, be\\, answered\n",
    "\\end{align*}"
   ]
  },
  {
   "cell_type": "markdown",
   "id": "ea5df2a0",
   "metadata": {},
   "source": [
    "\\begin{align*}\n",
    "h. Find\\, d(u,v).\n",
    "\\end{align*}\n",
    "\n",
    "\\begin{align*}\n",
    "\\mathbf{u} &= \\begin{bmatrix} 2 \\\\ -5 \\\\ 4 \\\\ 6 \\\\ -3 \\end{bmatrix} \\\\\n",
    "\\mathbf{v} &= \\begin{bmatrix} 5 \\\\ -2 \\\\ 1 \\\\ -7 \\\\ -4 \\end{bmatrix} \\\\\n",
    "\\|\\mathbf{u} - \\mathbf{v}\\| &= \\sqrt{(\\mathbf{u} - \\mathbf{v}) \\cdot (\\mathbf{u} - \\mathbf{v})} \\\\\n",
    "&= \\sqrt{\\begin{bmatrix} -3 \\\\ -3 \\\\ 3 \\\\ 13 \\\\ 1 \\end{bmatrix} \\cdot \\begin{bmatrix} -3 \\\\ -3 \\\\ 3 \\\\ 13 \\\\ 1 \\end{bmatrix}} \\\\\n",
    "&= \\sqrt{(-3 \\cdot -3) + (-3 \\cdot -3) + (3 \\cdot 3) + (13 \\cdot 13) + (1 \\cdot 1)} \\\\\n",
    "&= \\sqrt{9 + 9 + 9 + 169 + 1} \\\\\n",
    "&= \\sqrt{197}\n",
    "\\end{align*}"
   ]
  },
  {
   "cell_type": "code",
   "execution_count": 92,
   "id": "1ee28a71",
   "metadata": {},
   "outputs": [
    {
     "name": "stdout",
     "output_type": "stream",
     "text": [
      "d(u,v) : 14.035668847618199\n"
     ]
    }
   ],
   "source": [
    "u = np.array([2, -5, 4, 6, -3])\n",
    "v = np.array([5, -2, 1, -7, -4])\n",
    "w = np.array([2, 1, -3])\n",
    "\n",
    "print(\"d(u,v) :\", np.linalg.norm(u-v))"
   ]
  },
  {
   "cell_type": "markdown",
   "id": "5a27b326",
   "metadata": {},
   "source": [
    "\\begin{align*}\n",
    "i. Find\\, d(w,v).\n",
    "\\end{align*}\n",
    "\n",
    "\\begin{align*}\n",
    "d(w,v) = cannot\\, be\\, answered.\n",
    "\\end{align*}\n"
   ]
  },
  {
   "cell_type": "markdown",
   "id": "980c257c",
   "metadata": {},
   "source": [
    "\\begin{align*}\n",
    "j. Find\\, d(u,w).\n",
    "\\end{align*}\n",
    "\n",
    "\\begin{align*}\n",
    "d(u,w) = cannot\\, be\\, answered.\n",
    "\\end{align*}\n"
   ]
  },
  {
   "cell_type": "markdown",
   "id": "b2a2af9f",
   "metadata": {},
   "source": [
    "\\begin{align*}\n",
    "k. Find\\, proj(u,v).\n",
    "\\end{align*}\n",
    "\n",
    "\\begin{align*}\n",
    "u &= \\begin{bmatrix} 2 \\\\ -5 \\\\ 4 \\\\ 6 \\\\ -3 \\end{bmatrix} \\\\\n",
    "v &= \\begin{bmatrix} 5 \\\\ -2 \\\\ 1 \\\\ -7 \\\\ -4 \\end{bmatrix} \\\\\n",
    "w &= \\begin{bmatrix} 2 \\\\ 1 \\\\ -3 \\end{bmatrix} \\\\\n",
    "\\text{proj}(u,v) &= \\frac{u \\cdot v}{\\|v\\|^2}v \\\\\n",
    "&= \\frac{2 \\cdot 5 - 5 \\cdot 2 + 4 \\cdot 1 + 6 \\cdot (-7) - 3 \\cdot (-4)}{5^2 + (-2)^2 + 1^2 + (-7)^2 + (-4)^2}\\begin{bmatrix} 5 \\\\ -2 \\\\ 1 \\\\ -7 \\\\ -4 \\end{bmatrix} \\\\\n",
    "&= \\begin{bmatrix} -0.31578947 \\\\ 0.12631579 \\\\ -0.06315789 \\\\ 0.44210526 \\\\ 0.25263158 \\end{bmatrix}\n",
    "\\end{align*}"
   ]
  },
  {
   "cell_type": "code",
   "execution_count": 93,
   "id": "24367bd6",
   "metadata": {},
   "outputs": [
    {
     "name": "stdout",
     "output_type": "stream",
     "text": [
      "proj(u,v) : [-0.31578947  0.12631579 -0.06315789  0.44210526  0.25263158]\n"
     ]
    }
   ],
   "source": [
    "u = np.array([2, -5, 4, 6, -3])\n",
    "v = np.array([5, -2, 1, -7, -4])\n",
    "w = np.array([2, 1, -3])\n",
    "\n",
    "print(\"proj(u,v) :\", u.dot(v)*v/(np.linalg.norm(v)**2))"
   ]
  },
  {
   "cell_type": "markdown",
   "id": "61f91e31",
   "metadata": {},
   "source": [
    "\\begin{align*}\n",
    "l. Find\\, proj(w,v).\n",
    "\\end{align*}\n",
    "\n",
    "\\begin{align*}\n",
    "Find\\, proj(w,v) = cannot\\, be\\, answered.\n",
    "\\end{align*}"
   ]
  },
  {
   "cell_type": "markdown",
   "id": "b4b17284",
   "metadata": {},
   "source": [
    "\\begin{align*}\n",
    "m. Find\\, proj(u,w).\n",
    "\\end{align*}\n",
    "\n",
    "\\begin{align*}\n",
    "Find\\, proj(u,w) = cannot\\, be\\, answered.\n",
    "\\end{align*}"
   ]
  },
  {
   "cell_type": "markdown",
   "id": "bd720bc8",
   "metadata": {},
   "source": [
    "\\begin{align*}\n",
    "\\end{align*}"
   ]
  },
  {
   "cell_type": "markdown",
   "id": "e4165f45",
   "metadata": {},
   "source": [
    "\\begin{align*}\n",
    "Problem\\, 4:\\, Normalize\\, each\\, vector\n",
    "\\end{align*}"
   ]
  },
  {
   "cell_type": "markdown",
   "id": "966d9f50",
   "metadata": {},
   "source": [
    "\\begin{align*}\n",
    "a. \\mathbf{u} = (5,-7)\n",
    "\\end{align*}\n",
    "\n",
    "\\begin{align*}\n",
    "u &= \\begin{bmatrix} 5 \\\\ -7 \\end{bmatrix} \\\\\n",
    "\\text{Magnitude of } u &= \\sqrt{5^2 + (-7)^2} \\\\\n",
    "&= \\sqrt{25 + 49} \\\\\n",
    "&= \\sqrt{74} \\\\\n",
    "\\text{Normalized } u &= \\frac{1}{\\sqrt{74}} \\begin{bmatrix} 5 \\\\ -7 \\end{bmatrix} \\\\\n",
    "&= \\begin{bmatrix} \\frac{5}{\\sqrt{74}} \\\\ -\\frac{7}{\\sqrt{74}} \\end{bmatrix}\n",
    "\\end{align*}"
   ]
  },
  {
   "cell_type": "code",
   "execution_count": 96,
   "id": "46babf92",
   "metadata": {},
   "outputs": [
    {
     "name": "stdout",
     "output_type": "stream",
     "text": [
      "u': [ 0.58123819 -0.81373347]\n"
     ]
    }
   ],
   "source": [
    "u = np.array([5, -7])\n",
    "\n",
    "magnitude_u = np.linalg.norm(u)\n",
    "\n",
    "normalized_u = u / magnitude_u\n",
    "\n",
    "print(\"u':\", normalized_u)"
   ]
  },
  {
   "cell_type": "markdown",
   "id": "8193fd9b",
   "metadata": {},
   "source": [
    "\\begin{align*}\n",
    "b. \\mathbf{v} = (1,2,-2,4)\n",
    "\\end{align*}\n",
    "\n",
    "\\begin{align*}\n",
    "v &= \\begin{bmatrix} 1 \\\\ 2 \\\\ -2 \\\\ 4 \\end{bmatrix} \\\\\n",
    "\\text{Magnitude of } v &= \\sqrt{1^2 + 2^2 + (-2)^2 + 4^2} \\\\\n",
    "&= \\sqrt{1 + 4 + 4 + 16} \\\\\n",
    "&= \\sqrt{25} \\\\\n",
    "&= 5 \\\\\n",
    "\\text{Normalized } v &= \\frac{1}{5} \\begin{bmatrix} 1 \\\\ 2 \\\\ -2 \\\\ 4 \\end{bmatrix} \\\\\n",
    "&= \\begin{bmatrix} 0.2 \\\\ 0.4 \\\\ -0.4 \\\\ 0.8 \\end{bmatrix}\n",
    "\\end{align*}"
   ]
  },
  {
   "cell_type": "code",
   "execution_count": 97,
   "id": "c894f798",
   "metadata": {},
   "outputs": [
    {
     "name": "stdout",
     "output_type": "stream",
     "text": [
      "v': [ 0.2  0.4 -0.4  0.8]\n"
     ]
    }
   ],
   "source": [
    "v = np.array([1, 2, -2, 4])\n",
    "\n",
    "magnitude_v = np.linalg.norm(v)\n",
    "\n",
    "normalized_v = v / magnitude_v\n",
    "\n",
    "print(\"v':\", normalized_v)"
   ]
  },
  {
   "cell_type": "markdown",
   "id": "e6809b4c",
   "metadata": {},
   "source": [
    "\\begin{align*}\n",
    "c. \\mathbf{w} = (1,2,-2,4)\n",
    "\\end{align*}\n",
    "\n",
    "\\begin{align*}\n",
    "w &= \\begin{bmatrix} \\frac{1}{2} \\\\ -\\frac{1}{3} \\\\ \\frac{3}{4} \\end{bmatrix} \\\\\n",
    "\\text{Magnitude of } w &= \\sqrt{\\left(\\frac{1}{2}\\right)^2 + \\left(-\\frac{1}{3}\\right)^2 + \\left(\\frac{3}{4}\\right)^2} \\\\\n",
    "&= \\sqrt{\\frac{1}{4} + \\frac{1}{9} + \\frac{9}{16}} \\\\\n",
    "&= \\sqrt{\\frac{16 + 9 + 36}{144}} \\\\\n",
    "&= \\sqrt{\\frac{61}{144}} \\\\\n",
    "&= \\frac{\\sqrt{61}}{12} \\\\\n",
    "\\text{Normalized } w &= \\frac{1}{\\frac{\\sqrt{61}}{12}} \\begin{bmatrix} \\frac{1}{2} \\\\ -\\frac{1}{3} \\\\ \\frac{3}{4} \\end{bmatrix} \\\\\n",
    "&= \\frac{12}{\\sqrt{61}} \\begin{bmatrix} \\frac{1}{2} \\\\ -\\frac{1}{3} \\\\ \\frac{3}{4} \\end{bmatrix} \\\\\n",
    "&= \\begin{bmatrix} \\frac{6}{\\sqrt{61}} \\\\ -\\frac{4}{\\sqrt{61}} \\\\ \\frac{9}{\\sqrt{61}} \\end{bmatrix}\n",
    "\\end{align*}"
   ]
  },
  {
   "cell_type": "code",
   "execution_count": 98,
   "id": "7d127cac",
   "metadata": {},
   "outputs": [
    {
     "name": "stdout",
     "output_type": "stream",
     "text": [
      "w': [ 0.52026598 -0.34684399  0.78039897]\n"
     ]
    }
   ],
   "source": [
    "w = np.array([1/2, -1/3, 3/4])\n",
    "\n",
    "magnitude_w = np.linalg.norm(w)\n",
    "\n",
    "normalized_w = w / magnitude_w\n",
    "\n",
    "print(\"w':\", normalized_w)"
   ]
  },
  {
   "cell_type": "markdown",
   "id": "4a6801d5",
   "metadata": {},
   "source": [
    "\\begin{align*}\n",
    "\\end{align*}"
   ]
  },
  {
   "cell_type": "markdown",
   "id": "82fbf12f",
   "metadata": {},
   "source": [
    "\\begin{align*}\n",
    "Problem\\, 5\n",
    "\\end{align*}"
   ]
  },
  {
   "cell_type": "markdown",
   "id": "a7859ec4",
   "metadata": {},
   "source": [
    "\\begin{align*}\n",
    "Let\\, \\mathbf{u} = (1, 2, -2), \\mathbf{v} = (3, -12, 4), and\\, a\\, scalar\\, \\mathbf{k} = -3.\n",
    "Find\\, \\|u|\\, \\|v|\\, \\|u + v|\\, \\|ku|\\\n",
    "\\end{align*}\n",
    "\n",
    "\\begin{align*}\n",
    "u &= \\begin{bmatrix} 1 \\\\ 2 \\\\ -2 \\end{bmatrix} \\\\\n",
    "\\|u\\| &= \\sqrt{1^2 + 2^2 + (-2)^2} \\\\\n",
    "&= \\sqrt{1 + 4 + 4} \\\\\n",
    "&= \\sqrt{9} \\\\\n",
    "&= 3\n",
    "\\end{align*}\n",
    "\n",
    "\\begin{align*}\n",
    "v &= \\begin{bmatrix} 3 \\\\ -12 \\\\ 4 \\end{bmatrix} \\\\\n",
    "\\|v\\| &= \\sqrt{3^2 + (-12)^2 + 4^2} \\\\\n",
    "&= \\sqrt{9 + 144 + 16} \\\\\n",
    "&= \\sqrt{169} \\\\\n",
    "&= 13\n",
    "\\end{align*}\n",
    "\n",
    "\\begin{align*}\n",
    "\\|\\mathbf{u} + \\mathbf{v}\\| &= \\sqrt{(1 + 3)^2 + (2 - 12)^2 + (-2 + 4)^2} \\\\\n",
    "&= \\sqrt{4^2 + (-10)^2 + 2^2} \\\\\n",
    "&= \\sqrt{16 + 100 + 4} \\\\\n",
    "&= \\sqrt{120}\n",
    "\\end{align*}\n",
    "\n",
    "\\begin{align*}\n",
    "\\|\\mathbf{ku}\\| &= \\left\\| -3 \\cdot \\begin{bmatrix} 1 \\\\ 2 \\\\ -2 \\end{bmatrix} \\right\\| \\\\\n",
    "&= \\left\\| \\begin{bmatrix} -3 \\\\ -6 \\\\ 6 \\end{bmatrix} \\right\\| \\\\\n",
    "&= \\sqrt{(-3)^2 + (-6)^2 + 6^2} \\\\\n",
    "&= \\sqrt{9 + 36 + 36} \\\\\n",
    "&= \\sqrt{81} \\\\\n",
    "&= 9\n",
    "\\end{align*}"
   ]
  },
  {
   "cell_type": "code",
   "execution_count": 105,
   "id": "33d88756",
   "metadata": {},
   "outputs": [
    {
     "name": "stdout",
     "output_type": "stream",
     "text": [
      "||u|| = 3.0\n",
      "||v|| = 13.0\n",
      "||u + v|| = 10.954451150103322\n",
      "||ku|| = 9.0\n"
     ]
    }
   ],
   "source": [
    "u = np.array([1, 2, -2])\n",
    "\n",
    "norm_u = np.linalg.norm(u)\n",
    "\n",
    "print(\"||u|| =\", norm_u)\n",
    "\n",
    "v = np.array([3, -12, 4])\n",
    "\n",
    "norm_v = np.linalg.norm(v)\n",
    "\n",
    "print(\"||v|| =\", norm_v)\n",
    "\n",
    "u_plus_v = u + v\n",
    "\n",
    "norm_u_plus_v = np.linalg.norm(u_plus_v)\n",
    "\n",
    "print(\"||u + v|| =\", norm_u_plus_v)\n",
    "\n",
    "k = -3\n",
    "\n",
    "ku = k * u\n",
    "\n",
    "norm_ku = np.linalg.norm(ku)\n",
    "\n",
    "print(\"||ku|| =\", norm_ku)"
   ]
  },
  {
   "cell_type": "markdown",
   "id": "42880410",
   "metadata": {},
   "source": [
    "\\begin{align*}\n",
    "Problem\\, 6:\\, Find\\, k\\, so\\, that\\, \\mathbf{u}\\, and\\, \\mathbf{v}\\, are\\, orthogonal.\n",
    "\\end{align*}"
   ]
  },
  {
   "cell_type": "markdown",
   "id": "87ab916b",
   "metadata": {},
   "source": [
    "\\begin{align*}\n",
    "a. \\mathbf{u} = (3,k,-2), \\mathbf{v} = (6,-4,-3)\n",
    "\\end{align*}\n",
    "\n",
    "\\begin{align*}\n",
    "24 - 4k &= 0 \\\\\n",
    "4k &= 24 \\\\\n",
    "k &= 6 \\\\\n",
    "\\end{align*}"
   ]
  },
  {
   "cell_type": "code",
   "execution_count": 108,
   "id": "0eb852e7",
   "metadata": {},
   "outputs": [
    {
     "name": "stdout",
     "output_type": "stream",
     "text": [
      "Value of k for which u and v are orthogonal: [6]\n"
     ]
    }
   ],
   "source": [
    "k_values = []\n",
    "\n",
    "for k in range(-10, 11):\n",
    "    u = np.array([3, k, -2])\n",
    "    v = np.array([6, -4, -3])\n",
    "\n",
    "    if np.dot(u, v) == 0:\n",
    "        k_values.append(k)\n",
    "\n",
    "print(\"Value of k for which u and v are orthogonal:\", k_values)"
   ]
  },
  {
   "cell_type": "markdown",
   "id": "7f35f7ba",
   "metadata": {},
   "source": [
    "\\begin{align*}\n",
    "b. \\mathbf{u} = (5,k,-4,2), \\mathbf{v} = (1,-3,2,2k)\n",
    "\\end{align*}\n",
    "\n",
    "\\begin{align*}\n",
    "\\mathbf{u} \\cdot \\mathbf{v} &= 5 \\cdot 1 + k \\cdot (-3) + (-4) \\cdot 2 + 2 \\cdot (2k) \\\\\n",
    "&= 5 - 3k - 8 + 4k \\\\\n",
    "&= -3k - 3\n",
    "\\end{align*}\n",
    "\n",
    "\\begin{align*}\n",
    "-3k - 3 &= 0 \\\\\n",
    "-3k &= 3 \\\\\n",
    "k &= -1\n",
    "\\end{align*}"
   ]
  },
  {
   "cell_type": "code",
   "execution_count": 109,
   "id": "1ee472b7",
   "metadata": {},
   "outputs": [
    {
     "name": "stdout",
     "output_type": "stream",
     "text": [
      "Value of k for which u and v are orthogonal: [3]\n"
     ]
    }
   ],
   "source": [
    "k_values = []\n",
    "\n",
    "for k in range(-10, 11):\n",
    "    u = np.array([5, k, -4, 2])\n",
    "    v = np.array([1, -3, 2, 2 * k])\n",
    "\n",
    "    if np.dot(u, v) == 0:\n",
    "        k_values.append(k)\n",
    "\n",
    "print(\"Value of k for which u and v are orthogonal:\", k_values)"
   ]
  },
  {
   "cell_type": "markdown",
   "id": "92ff249f",
   "metadata": {},
   "source": [
    "\\begin{align*}\n",
    "c. \\mathbf{u} = (1,7,k+2,-2), \\mathbf{v} = (3,k,-3,k)\n",
    "\\end{align*}\n",
    "\n",
    "\\begin{align*}\n",
    "\\mathbf{u} \\cdot \\mathbf{v} &= 1 \\cdot 3 + 7 \\cdot k + (k+2) \\cdot (-3) + (-2) \\cdot k \\\\\n",
    "&= 3 + 7k - 3k - 6 + (-2k) \\\\\n",
    "&= 5k - 3\n",
    "\\end{align*}\n",
    "\n",
    "\\begin{align*}\n",
    "5k - 3 &= 0 \\\\\n",
    "5k &= 3 \\\\\n",
    "k &= \\frac{3}{5}\n",
    "\\end{align*}"
   ]
  },
  {
   "cell_type": "code",
   "execution_count": 113,
   "id": "66f230c5",
   "metadata": {},
   "outputs": [
    {
     "name": "stdout",
     "output_type": "stream",
     "text": [
      "Values of k for which u and v are orthogonal: [3/2]\n"
     ]
    }
   ],
   "source": [
    "import sympy as sp\n",
    "\n",
    "k = sp.symbols('k')\n",
    "\n",
    "u = sp.Matrix([1, 7, k + 2, -2])\n",
    "v = sp.Matrix([3, k, -3, k])\n",
    "\n",
    "dot_product = u.dot(v)\n",
    "\n",
    "solution = sp.solve(dot_product, k)\n",
    "\n",
    "print(\"Values of k for which u and v are orthogonal:\", solution)"
   ]
  }
 ],
 "metadata": {
  "kernelspec": {
   "display_name": "Python 3 (ipykernel)",
   "language": "python",
   "name": "python3"
  },
  "language_info": {
   "codemirror_mode": {
    "name": "ipython",
    "version": 3
   },
   "file_extension": ".py",
   "mimetype": "text/x-python",
   "name": "python",
   "nbconvert_exporter": "python",
   "pygments_lexer": "ipython3",
   "version": "3.11.4"
  }
 },
 "nbformat": 4,
 "nbformat_minor": 5
}
