{
 "cells": [
  {
   "cell_type": "markdown",
   "id": "0291e165",
   "metadata": {},
   "source": [
    "\\begin{align*}\n",
    "CODE\\,\\, CHALLENGES\n",
    "\\end{align*}"
   ]
  },
  {
   "cell_type": "markdown",
   "id": "dc0b0544",
   "metadata": {},
   "source": [
    "\\begin{align*}\n",
    "1)\\, Without\\, the \\,use \\,of\\, any \\,python\\, libraries \\,or \\,modules,\\, develop \\,a\\, function \\,that\\, can\\, perform\\, matrix\\, addition,\\, given\\, two\\, numpy \\,matrices.\n",
    "\\end{align*}"
   ]
  },
  {
   "cell_type": "code",
   "execution_count": 1,
   "id": "b1a07729",
   "metadata": {},
   "outputs": [
    {
     "name": "stdout",
     "output_type": "stream",
     "text": [
      "[10, 10, 10]\n",
      "[10, 10, 10]\n",
      "[10, 10, 10]\n"
     ]
    }
   ],
   "source": [
    "def matrix_addition(mat1, mat2):\n",
    "    # Check if the matrices have the same dimensions\n",
    "    if len(mat1) != len(mat2) or len(mat1[0]) != len(mat2[0]):\n",
    "        raise ValueError(\"Matrices must have the same dimensions for addition\")\n",
    "\n",
    "    # Create an empty matrix to store the result\n",
    "    result = []\n",
    "\n",
    "    # Iterate through the rows of the matrices\n",
    "    for i in range(len(mat1)):\n",
    "        # Create an empty row for the result matrix\n",
    "        result_row = []\n",
    "\n",
    "        # Iterate through the elements in the current row\n",
    "        for j in range(len(mat1[0])):\n",
    "            # Add the corresponding elements from both matrices\n",
    "            result_row.append(mat1[i][j] + mat2[i][j])\n",
    "\n",
    "        # Add the row to the result matrix\n",
    "        result.append(result_row)\n",
    "\n",
    "    return result\n",
    "\n",
    "# Example usage:\n",
    "matrix1 = [\n",
    "    [1, 2, 3],\n",
    "    [4, 5, 6],\n",
    "    [7, 8, 9]\n",
    "]\n",
    "\n",
    "matrix2 = [\n",
    "    [9, 8, 7],\n",
    "    [6, 5, 4],\n",
    "    [3, 2, 1]\n",
    "]\n",
    "\n",
    "result_matrix = matrix_addition(matrix1, matrix2)\n",
    "for row in result_matrix:\n",
    "    print(row)"
   ]
  },
  {
   "cell_type": "markdown",
   "id": "591f8a03",
   "metadata": {},
   "source": [
    "\\begin{align*}\n",
    "2)\\, Without\\, the\\, use\\, of\\, any \\,python \\,libraries \\,or\\, modules, \\,develop\\, a \\,function\\, that \\,can \\,multiply\\, two\\, numpy \\,matrices.\n",
    "\\end{align*}"
   ]
  },
  {
   "cell_type": "code",
   "execution_count": 3,
   "id": "b8bf0d8c",
   "metadata": {},
   "outputs": [
    {
     "name": "stdout",
     "output_type": "stream",
     "text": [
      "[30, 24, 18]\n",
      "[84, 69, 54]\n",
      "[138, 114, 90]\n"
     ]
    }
   ],
   "source": [
    "def matrix_multiplication(mat1, mat2):\n",
    "    # Check if the matrices can be multiplied\n",
    "    if len(mat1[0]) != len(mat2):\n",
    "        raise ValueError(\"Number of columns in the first matrix must be equal to the number of rows in the second matrix\")\n",
    "\n",
    "    # Create an empty matrix to store the result\n",
    "    result = []\n",
    "\n",
    "    # Iterate through the rows of the first matrix\n",
    "    for i in range(len(mat1)):\n",
    "        # Create an empty row for the result matrix\n",
    "        result_row = []\n",
    "\n",
    "        # Iterate through the columns of the second matrix\n",
    "        for j in range(len(mat2[0])):\n",
    "            # Calculate the dot product of the current row in the first matrix and the current column in the second matrix\n",
    "            dot_product = 0\n",
    "            for k in range(len(mat2)):\n",
    "                dot_product += mat1[i][k] * mat2[k][j]\n",
    "\n",
    "            # Add the result to the current row in the result matrix\n",
    "            result_row.append(dot_product)\n",
    "\n",
    "        # Add the row to the result matrix\n",
    "        result.append(result_row)\n",
    "\n",
    "    return result\n",
    "\n",
    "# Example usage:\n",
    "matrix1 = [\n",
    "    [1, 2, 3],\n",
    "    [4, 5, 6],\n",
    "    [7, 8, 9]\n",
    "]\n",
    "\n",
    "matrix2 = [\n",
    "    [9, 8, 7],\n",
    "    [6, 5, 4],\n",
    "    [3, 2, 1]\n",
    "]\n",
    "\n",
    "result_matrix = matrix_multiplication(matrix1, matrix2)\n",
    "for row in result_matrix:\n",
    "    print(row)"
   ]
  },
  {
   "cell_type": "markdown",
   "id": "19d38674",
   "metadata": {},
   "source": [
    "\\begin{align*}\n",
    "3)\\, The\\, rule\\, of \\,distributivity\\, states \\,that\\, given \\,two \\,matrices\\, A \\,and\\, B \\,and\\, a \\,scalar, \\,k, \\,then \\,k(A + B) = kA + kB. \\,Instead \\,of\\, writing \\,a\\, proof \\,mathematically,\\, develop\\, two\\, codes \\,for\\, k(A + B) \\,and\\, kA + kB.\n",
    "\\end{align*}\n",
    "\n"
   ]
  },
  {
   "cell_type": "code",
   "execution_count": 4,
   "id": "1e485d43",
   "metadata": {},
   "outputs": [
    {
     "name": "stdout",
     "output_type": "stream",
     "text": [
      "[20, 20, 20]\n",
      "[20, 20, 20]\n",
      "[20, 20, 20]\n"
     ]
    }
   ],
   "source": [
    "# Code for k(A + B)\n",
    "def scalar_matrix_addition(mat1, mat2, k):\n",
    "    # Check if the matrices have the same dimensions\n",
    "    if len(mat1) != len(mat2) or len(mat1[0]) != len(mat2[0]):\n",
    "        raise ValueError(\"Matrices must have the same dimensions for addition\")\n",
    "\n",
    "    # Create an empty matrix to store the result\n",
    "    result = []\n",
    "\n",
    "    # Iterate through the rows of the matrices\n",
    "    for i in range(len(mat1)):\n",
    "        # Create an empty row for the result matrix\n",
    "        result_row = []\n",
    "\n",
    "        # Iterate through the elements in the current row\n",
    "        for j in range(len(mat1[0])):\n",
    "            # Add the scaled sum of corresponding elements from both matrices\n",
    "            result_row.append(k * (mat1[i][j] + mat2[i][j]))\n",
    "\n",
    "        # Add the row to the result matrix\n",
    "        result.append(result_row)\n",
    "\n",
    "    return result\n",
    "\n",
    "# Example usage:\n",
    "matrix1 = [\n",
    "    [1, 2, 3],\n",
    "    [4, 5, 6],\n",
    "    [7, 8, 9]\n",
    "]\n",
    "\n",
    "matrix2 = [\n",
    "    [9, 8, 7],\n",
    "    [6, 5, 4],\n",
    "    [3, 2, 1]\n",
    "]\n",
    "\n",
    "k = 2\n",
    "\n",
    "result_matrix = scalar_matrix_addition(matrix1, matrix2, k)\n",
    "for row in result_matrix:\n",
    "    print(row)"
   ]
  },
  {
   "cell_type": "code",
   "execution_count": 5,
   "id": "b3e20949",
   "metadata": {},
   "outputs": [
    {
     "name": "stdout",
     "output_type": "stream",
     "text": [
      "[2, 4, 6]\n",
      "[8, 10, 12]\n",
      "[14, 16, 18]\n"
     ]
    }
   ],
   "source": [
    "# Code for kA + kB\n",
    "def scalar_matrix_multiplication(mat, k):\n",
    "    # Create an empty matrix to store the result\n",
    "    result = []\n",
    "\n",
    "    # Iterate through the rows of the matrix\n",
    "    for i in range(len(mat)):\n",
    "        # Create an empty row for the result matrix\n",
    "        result_row = []\n",
    "\n",
    "        # Iterate through the elements in the current row\n",
    "        for j in range(len(mat[0])):\n",
    "            # Multiply each element by the scalar\n",
    "            result_row.append(k * mat[i][j])\n",
    "\n",
    "        # Add the row to the result matrix\n",
    "        result.append(result_row)\n",
    "\n",
    "    return result\n",
    "\n",
    "# Example usage:\n",
    "matrix = [\n",
    "    [1, 2, 3],\n",
    "    [4, 5, 6],\n",
    "    [7, 8, 9]\n",
    "]\n",
    "\n",
    "k = 2\n",
    "\n",
    "result_matrix = scalar_matrix_multiplication(matrix, k)\n",
    "for row in result_matrix:\n",
    "    print(row)"
   ]
  },
  {
   "cell_type": "markdown",
   "id": "86eec5fd",
   "metadata": {},
   "source": [
    "\\begin{align*}\n",
    "4)\\, Without\\, using\\, a\\, python\\, library \\,or\\, modules, \\,develop\\, a\\, function\\, that\\, can\\, extract \\,the \\,diagonal \\,of \\,a\\, numpy \\,matrix.\n",
    "\\end{align*}"
   ]
  },
  {
   "cell_type": "code",
   "execution_count": 6,
   "id": "932bfb58",
   "metadata": {},
   "outputs": [
    {
     "name": "stdout",
     "output_type": "stream",
     "text": [
      "[1, 5, 9]\n"
     ]
    }
   ],
   "source": [
    "def extract_diagonal(matrix):\n",
    "    # Check if the matrix is square\n",
    "    if len(matrix) != len(matrix[0]):\n",
    "        raise ValueError(\"Matrix must be square for diagonal extraction\")\n",
    "\n",
    "    # Extract the diagonal elements\n",
    "    diagonal = [matrix[i][i] for i in range(len(matrix))]\n",
    "\n",
    "    return diagonal\n",
    "\n",
    "# Example usage:\n",
    "matrix = [\n",
    "    [1, 2, 3],\n",
    "    [4, 5, 6],\n",
    "    [7, 8, 9]\n",
    "]\n",
    "\n",
    "diagonal_elements = extract_diagonal(matrix)\n",
    "print(diagonal_elements)"
   ]
  },
  {
   "cell_type": "markdown",
   "id": "21e86c2f",
   "metadata": {},
   "source": [
    "\\begin{align*}\n",
    "5)\\, Without\\, using\\, a\\, python\\, library \\,or\\, modules, \\,develop\\, a\\, function\\, that\\, can\\, find \\,a \\,trace \\,of \\,a\\, numpy \\,matrix.\n",
    "\\end{align*}"
   ]
  },
  {
   "cell_type": "code",
   "execution_count": 7,
   "id": "a7a2737c",
   "metadata": {},
   "outputs": [
    {
     "name": "stdout",
     "output_type": "stream",
     "text": [
      "Trace of the matrix: 15\n"
     ]
    }
   ],
   "source": [
    "def matrix_trace(matrix):\n",
    "    # Check if the matrix is square\n",
    "    if len(matrix) != len(matrix[0]):\n",
    "        raise ValueError(\"Matrix must be square for trace calculation\")\n",
    "\n",
    "    # Calculate the trace (sum of diagonal elements)\n",
    "    trace = sum(matrix[i][i] for i in range(len(matrix)))\n",
    "\n",
    "    return trace\n",
    "\n",
    "# Example usage:\n",
    "matrix = [\n",
    "    [1, 2, 3],\n",
    "    [4, 5, 6],\n",
    "    [7, 8, 9]\n",
    "]\n",
    "\n",
    "trace_value = matrix_trace(matrix)\n",
    "print(\"Trace of the matrix:\", trace_value)"
   ]
  },
  {
   "cell_type": "markdown",
   "id": "3613f66f",
   "metadata": {},
   "source": [
    "\\begin{align*}\n",
    "\\end{align*}"
   ]
  },
  {
   "cell_type": "markdown",
   "id": "49f5ae71",
   "metadata": {},
   "source": [
    "\\begin{align*}\n",
    "Problem\\, Solving\n",
    "\\end{align*}"
   ]
  },
  {
   "cell_type": "markdown",
   "id": "12516aac",
   "metadata": {},
   "source": [
    "\\begin{align*}\n",
    "1)\\, Solve for X given that A = [1 2 3 4], B = [-1 0 1 1]\\\\\n",
    "a.\\, 3X = A - 2B\n",
    "\\end{align*}\n",
    "\n",
    "\\begin{align*}\n",
    "A &= \\begin{bmatrix}\n",
    "       1 & 2 \\\\\n",
    "       3 & 4 \\\\\n",
    "     \\end{bmatrix}, \\quad\n",
    "B = \\begin{bmatrix}\n",
    "       -1 & 0 \\\\\n",
    "        1 & 1 \\\\\n",
    "     \\end{bmatrix} \\\\\n",
    "\\end{align*}\n",
    "\n",
    "\\begin{align*}\n",
    "\\text{Multiply } B \\text{ by } -2 &:\n",
    "\\begin{bmatrix}\n",
    "       -2 \\cdot (-1) & -2 \\cdot 0 \\\\\n",
    "       -2 \\cdot 1 & -2 \\cdot 1 \\\\\n",
    "\\end{bmatrix} =\n",
    "\\begin{bmatrix}\n",
    "       2 & 0 \\\\\n",
    "       -2 & -2 \\\\\n",
    "\\end{bmatrix}\n",
    "\\end{align*}\n",
    "\n",
    "\\begin{align*}\n",
    "\\text{Subtract } 2B \\text{ from } A &:\n",
    "\\begin{bmatrix}\n",
    "       1 - 2 & 2 - 0 \\\\\n",
    "       3 - (-2) & 4 - (-2) \\\\\n",
    "\\end{bmatrix} =\n",
    "\\begin{bmatrix}\n",
    "       -1 & 2 \\\\\n",
    "       5 & 6 \\\\\n",
    "\\end{bmatrix}\n",
    "\\end{align*}\n",
    "\n",
    "\\begin{align*}\n",
    "\\text{Divide the result by } 3 &:\n",
    "\\begin{bmatrix}\n",
    "       \\frac{-1}{3} & \\frac{2}{3} \\\\\n",
    "       \\frac{5}{3} & 2 \\\\\n",
    "\\end{bmatrix}\n",
    "\\end{align*}"
   ]
  },
  {
   "cell_type": "code",
   "execution_count": 8,
   "id": "5b97b195",
   "metadata": {},
   "outputs": [
    {
     "name": "stdout",
     "output_type": "stream",
     "text": [
      "Matrix X:\n",
      "[-0.3333333333333333, 0.6666666666666666]\n",
      "[1.6666666666666667, 2.0]\n"
     ]
    }
   ],
   "source": [
    "A = [\n",
    "    [1, 2],\n",
    "    [3, 4]\n",
    "]\n",
    "\n",
    "B = [\n",
    "    [-1, 0],\n",
    "    [1, 1]\n",
    "]\n",
    "\n",
    "minus_2B = [\n",
    "    [-2 * B[i][j] for j in range(len(B[0]))] for i in range(len(B))\n",
    "]\n",
    "\n",
    "result_matrix = [\n",
    "    [A[i][j] - minus_2B[i][j] for j in range(len(A[0]))] for i in range(len(A))\n",
    "]\n",
    "\n",
    "X = [\n",
    "    [result_matrix[i][j] / 3 for j in range(len(result_matrix[0]))] for i in range(len(result_matrix))\n",
    "]\n",
    "\n",
    "print(\"Matrix X:\")\n",
    "for row in X:\n",
    "    print(row)"
   ]
  },
  {
   "cell_type": "markdown",
   "id": "5e3a7612",
   "metadata": {},
   "source": [
    "\\begin{align*}\n",
    "b.\\, 2(A - B + 2X) = 3(X-B)\n",
    "\\end{align*}\n",
    "\n",
    "\\begin{align*}\n",
    "\\text{Given matrices:} \\\\\n",
    "A &= \\begin{bmatrix}\n",
    "       1 & 2 \\\\\n",
    "       3 & 4 \\\\\n",
    "     \\end{bmatrix}, \\quad\n",
    "B = \\begin{bmatrix}\n",
    "       -1 & 0 \\\\\n",
    "        1 & 1 \\\\\n",
    "     \\end{bmatrix} \\\\\n",
    "\\text{Scalar multiples:} \\\\\n",
    "\\text{scalar\\_A} &= 2, \\quad \\text{scalar\\_B} = 3 \\\\\n",
    "\\text{Solve for } X \\text{ in the equation:} \\\\\n",
    "2(A - B + 2X) &= 3(X - B) \\\\\n",
    "\\text{Step 1: Distribute the scalar multiples on both sides:} \\\\\n",
    "2A - 2B + 4X &= 3X - 3B \\\\\n",
    "\\text{Step 2: Combine like terms:} \\\\\n",
    "2A + 4X &= 3X - B \\\\\n",
    "\\text{Step 3: Move } 3X \\text{ and } B \\text{ to the left side:} \\\\\n",
    "2A - 3X &= -B \\\\\n",
    "\\text{Step 4: Solve for } X: \\\\\n",
    "X &= \\frac{1}{3}(2A + B)\n",
    "\\end{align*}"
   ]
  },
  {
   "cell_type": "code",
   "execution_count": 9,
   "id": "4efdca6f",
   "metadata": {},
   "outputs": [
    {
     "name": "stdout",
     "output_type": "stream",
     "text": [
      "Matrix X:\n",
      "[0.16666666666666674, 1.1666666666666665]\n",
      "[2.166666666666667, 2.75]\n"
     ]
    }
   ],
   "source": [
    "A = [\n",
    "    [1, 2],\n",
    "    [3, 4]\n",
    "]\n",
    "\n",
    "B = [\n",
    "    [-1, 0],\n",
    "    [1, 1]\n",
    "]\n",
    "\n",
    "scalar_A = 2\n",
    "scalar_B = 3\n",
    "\n",
    "left_side = [[scalar_A * A[i][j] - scalar_A * B[i][j] + 2 * scalar_A * X[i][j] for j in range(len(A[0]))] for i in range(len(A))]\n",
    "right_side = [[scalar_B * X[i][j] - scalar_B * B[i][j] for j in range(len(X[0]))] for i in range(len(X))]\n",
    "\n",
    "eq_left = [[left_side[i][j] - right_side[i][j] for j in range(len(left_side[0]))] for i in range(len(left_side))]\n",
    "\n",
    "X = [[eq_left[i][j] / (2 * scalar_A) for j in range(len(eq_left[0]))] for i in range(len(eq_left))]\n",
    "\n",
    "print(\"Matrix X:\")\n",
    "for row in X:\n",
    "    print(row)"
   ]
  },
  {
   "cell_type": "markdown",
   "id": "84c3acaa",
   "metadata": {},
   "source": [
    "2) Write B as a linear combination of the other matrices, if possible.\n",
    "A1 = [1,2,-1,1], A2 = [0,1,2,1], B = [2,5,0,3]\n",
    "\n",
    "\\begin{align*}\n",
    "\\text{Given matrices:} \\\\\n",
    "A_1 &= \\begin{bmatrix} 1 \\\\ 2 \\\\ -1 \\\\ 1 \\end{bmatrix}, \\quad\n",
    "A_2 = \\begin{bmatrix} 0 \\\\ 1 \\\\ 2 \\\\ 1 \\end{bmatrix}, \\quad\n",
    "B = \\begin{bmatrix} 2 \\\\ 5 \\\\ 0 \\\\ 3 \\end{bmatrix} \\\\\n",
    "\\text{Construct the coefficient matrix and the right-hand side vector:} \\\\\n",
    "\\text{coeff\\_matrix} &= \\begin{bmatrix} 1 & 0 \\\\ 2 & 1 \\\\ -1 & 2 \\\\ 1 & 1 \\end{bmatrix}, \\quad\n",
    "\\text{rhs\\_vector} = \\begin{bmatrix} 2 \\\\ 5 \\\\ 0 \\\\ 3 \\end{bmatrix} \\\\\n",
    "\\text{Try to solve for } c_1 \\text{ and } c_2 \\text{ using numpy's linear algebra solver:} \\\\\n",
    "\\text{coefficients} &= \\begin{bmatrix} c_1 \\\\ c_2 \\end{bmatrix} = \\begin{bmatrix} 1 \\\\ 2 \\end{bmatrix} \\\\\n",
    "\\text{B can be expressed as} \\quad B &= c_1A_1 + c_2A_2 \\\\\n",
    "B &= 1 \\cdot \\begin{bmatrix} 1 \\\\ 2 \\\\ -1 \\\\ 1 \\end{bmatrix} + 2 \\cdot \\begin{bmatrix} 0 \\\\ 1 \\\\ 2 \\\\ 1 \\end{bmatrix} \\\\\n",
    "B &= \\begin{bmatrix} 1 \\\\ 2 \\\\ -1 \\\\ 1 \\end{bmatrix} + \\begin{bmatrix} 0 \\\\ 2 \\\\ 4 \\\\ 2 \\end{bmatrix} \\\\\n",
    "B &= \\begin{bmatrix} 1 \\\\ 4 \\\\ 3 \\\\ 3 \\end{bmatrix}\n",
    "\\end{align*}"
   ]
  },
  {
   "cell_type": "code",
   "execution_count": 10,
   "id": "220f8444",
   "metadata": {},
   "outputs": [
    {
     "name": "stdout",
     "output_type": "stream",
     "text": [
      "The system of equations is inconsistent; B cannot be expressed as a linear combination of A1 and A2.\n"
     ]
    }
   ],
   "source": [
    "import numpy as np\n",
    "\n",
    "A1 = np.array([1, 2, -1, 1])\n",
    "A2 = np.array([0, 1, 2, 1])\n",
    "B = np.array([2, 5, 0, 3])\n",
    "\n",
    "coeff_matrix = np.vstack((A1, A2)).T\n",
    "rhs_vector = B\n",
    "\n",
    "try:\n",
    "    coefficients = np.linalg.solve(coeff_matrix, rhs_vector)\n",
    "    c1, c2 = coefficients\n",
    "    print(f\"B can be expressed as B = {c1}A1 + {c2}A2\")\n",
    "except np.linalg.LinAlgError:\n",
    "    print(\"The system of equations is inconsistent; B cannot be expressed as a linear combination of A1 and A2.\")"
   ]
  },
  {
   "cell_type": "markdown",
   "id": "48267f41",
   "metadata": {},
   "source": [
    "A1 = [1, 0, 0, 1], A2 = [0,1,1,0], A3 = [1,-1,1,1], B = [2,5,0,3]"
   ]
  },
  {
   "cell_type": "code",
   "execution_count": 11,
   "id": "76c48d54",
   "metadata": {},
   "outputs": [
    {
     "name": "stdout",
     "output_type": "stream",
     "text": [
      "The system of equations is inconsistent; B cannot be expressed as a linear combination of A1, A2, and A3.\n"
     ]
    }
   ],
   "source": [
    "A1 = np.array([[1, 0], [0, 1]])\n",
    "A2 = np.array([[0, 1], [1, 0]])\n",
    "A3 = np.array([[1, -1], [1, 1]])\n",
    "B = np.array([2, 5, 0, 3])\n",
    "\n",
    "B = B.reshape((2, 2))\n",
    "\n",
    "coeff_matrix = np.vstack((A1.flatten(), A2.flatten(), A3.flatten())).T\n",
    "rhs_vector = B.flatten()\n",
    "\n",
    "try:\n",
    "    coefficients = np.linalg.solve(coeff_matrix, rhs_vector)\n",
    "    c1, c2, c3 = coefficients\n",
    "    print(f\"B can be expressed as B = {c1}A1 + {c2}A2 + {c3}A3\")\n",
    "except np.linalg.LinAlgError:\n",
    "    print(\"The system of equations is inconsistent; B cannot be expressed as a linear combination of A1, A2, and A3.\")"
   ]
  },
  {
   "cell_type": "code",
   "execution_count": null,
   "id": "c89156c1",
   "metadata": {},
   "outputs": [],
   "source": []
  }
 ],
 "metadata": {
  "kernelspec": {
   "display_name": "Python 3 (ipykernel)",
   "language": "python",
   "name": "python3"
  },
  "language_info": {
   "codemirror_mode": {
    "name": "ipython",
    "version": 3
   },
   "file_extension": ".py",
   "mimetype": "text/x-python",
   "name": "python",
   "nbconvert_exporter": "python",
   "pygments_lexer": "ipython3",
   "version": "3.11.4"
  }
 },
 "nbformat": 4,
 "nbformat_minor": 5
}
